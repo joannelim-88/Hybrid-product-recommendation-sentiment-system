{
  "cells": [
    {
      "cell_type": "markdown",
      "metadata": {
        "id": "aELVe2AWYQaQ"
      },
      "source": [
        "FYP - SHESelect Sentiment Analysis Model using Naive Bayes & BERT algorithm"
      ]
    },
    {
      "cell_type": "code",
      "execution_count": null,
      "metadata": {
        "id": "VtFh3uk_YQaS"
      },
      "outputs": [],
      "source": [
        "#IMPORT NECESSARY LIBRARIES\n",
        "import nltk\n",
        "import pandas as pd\n",
        "import re\n",
        "from nltk.corpus import stopwords\n",
        "from nltk.tokenize import word_tokenize\n",
        "from sklearn.model_selection import train_test_split\n",
        "import matplotlib.pyplot as plt\n",
        "import seaborn as sns\n",
        "#Used to optimize the model\n",
        "import swifter\n",
        "import spacy\n",
        "#Naive Bayes and BERT algorithms\n",
        "from sklearn.naive_bayes import MultinomialNB\n",
        "from sklearn.feature_extraction.text import TfidfVectorizer\n",
        "import numpy as np\n",
        "import tensorflow as tf\n",
        "from transformers import DistilBertTokenizer, TFDistilBertForSequenceClassification\n",
        "from tf_keras import mixed_precision\n",
        "from tf_keras.optimizers import Adam\n",
        "from tf_keras.utils import to_categorical\n",
        "from sklearn.metrics import accuracy_score, classification_report, confusion_matrix\n",
        "#Hypertuning\n",
        "from sklearn.model_selection import GridSearchCV #naive bayes\n",
        "from tensorflow.keras.optimizers.schedules import ExponentialDecay #bert\n",
        "from sklearn.model_selection import ParameterGrid\n",
        "import optuna\n",
        "from sklearn.preprocessing import LabelEncoder\n",
        "from scikeras.wrappers import KerasClassifier\n",
        "from tf_keras.callbacks import EarlyStopping\n",
        "from imblearn.over_sampling import RandomOverSampler  # For dataset balancing\n"
      ]
    },
    {
      "cell_type": "code",
      "source": [
        "!pip install swifter\n",
        "!pip install scikeras\n",
        "!pip install optuna"
      ],
      "metadata": {
        "colab": {
          "base_uri": "https://localhost:8080/"
        },
        "id": "ehkuwTM_Q_c8",
        "outputId": "db231c1d-c500-462c-886a-64215bfaf7fc"
      },
      "execution_count": null,
      "outputs": [
        {
          "output_type": "stream",
          "name": "stdout",
          "text": [
            "Collecting swifter\n",
            "  Downloading swifter-1.4.0.tar.gz (1.2 MB)\n",
            "\u001b[?25l     \u001b[90m━━━━━━━━━━━━━━━━━━━━━━━━━━━━━━━━━━━━━━━━\u001b[0m \u001b[32m0.0/1.2 MB\u001b[0m \u001b[31m?\u001b[0m eta \u001b[36m-:--:--\u001b[0m\r\u001b[2K     \u001b[91m━━━━━━━━━━━━━━━━━━━━━━\u001b[0m\u001b[90m╺\u001b[0m\u001b[90m━━━━━━━━━━━━━━━━━\u001b[0m \u001b[32m0.7/1.2 MB\u001b[0m \u001b[31m19.5 MB/s\u001b[0m eta \u001b[36m0:00:01\u001b[0m\r\u001b[2K     \u001b[90m━━━━━━━━━━━━━━━━━━━━━━━━━━━━━━━━━━━━━━━━\u001b[0m \u001b[32m1.2/1.2 MB\u001b[0m \u001b[31m22.7 MB/s\u001b[0m eta \u001b[36m0:00:00\u001b[0m\n",
            "\u001b[?25h  Preparing metadata (setup.py) ... \u001b[?25l\u001b[?25hdone\n",
            "Requirement already satisfied: pandas>=1.0.0 in /usr/local/lib/python3.11/dist-packages (from swifter) (2.2.2)\n",
            "Requirement already satisfied: psutil>=5.6.6 in /usr/local/lib/python3.11/dist-packages (from swifter) (5.9.5)\n",
            "Requirement already satisfied: dask>=2.10.0 in /usr/local/lib/python3.11/dist-packages (from dask[dataframe]>=2.10.0->swifter) (2024.12.1)\n",
            "Requirement already satisfied: tqdm>=4.33.0 in /usr/local/lib/python3.11/dist-packages (from swifter) (4.67.1)\n",
            "Requirement already satisfied: click>=8.1 in /usr/local/lib/python3.11/dist-packages (from dask>=2.10.0->dask[dataframe]>=2.10.0->swifter) (8.1.8)\n",
            "Requirement already satisfied: cloudpickle>=3.0.0 in /usr/local/lib/python3.11/dist-packages (from dask>=2.10.0->dask[dataframe]>=2.10.0->swifter) (3.1.1)\n",
            "Requirement already satisfied: fsspec>=2021.09.0 in /usr/local/lib/python3.11/dist-packages (from dask>=2.10.0->dask[dataframe]>=2.10.0->swifter) (2025.3.2)\n",
            "Requirement already satisfied: packaging>=20.0 in /usr/local/lib/python3.11/dist-packages (from dask>=2.10.0->dask[dataframe]>=2.10.0->swifter) (24.2)\n",
            "Requirement already satisfied: partd>=1.4.0 in /usr/local/lib/python3.11/dist-packages (from dask>=2.10.0->dask[dataframe]>=2.10.0->swifter) (1.4.2)\n",
            "Requirement already satisfied: pyyaml>=5.3.1 in /usr/local/lib/python3.11/dist-packages (from dask>=2.10.0->dask[dataframe]>=2.10.0->swifter) (6.0.2)\n",
            "Requirement already satisfied: toolz>=0.10.0 in /usr/local/lib/python3.11/dist-packages (from dask>=2.10.0->dask[dataframe]>=2.10.0->swifter) (0.12.1)\n",
            "Requirement already satisfied: importlib_metadata>=4.13.0 in /usr/local/lib/python3.11/dist-packages (from dask>=2.10.0->dask[dataframe]>=2.10.0->swifter) (8.6.1)\n",
            "Requirement already satisfied: dask-expr<1.2,>=1.1 in /usr/local/lib/python3.11/dist-packages (from dask[dataframe]>=2.10.0->swifter) (1.1.21)\n",
            "Requirement already satisfied: numpy>=1.23.2 in /usr/local/lib/python3.11/dist-packages (from pandas>=1.0.0->swifter) (2.0.2)\n",
            "Requirement already satisfied: python-dateutil>=2.8.2 in /usr/local/lib/python3.11/dist-packages (from pandas>=1.0.0->swifter) (2.8.2)\n",
            "Requirement already satisfied: pytz>=2020.1 in /usr/local/lib/python3.11/dist-packages (from pandas>=1.0.0->swifter) (2025.2)\n",
            "Requirement already satisfied: tzdata>=2022.7 in /usr/local/lib/python3.11/dist-packages (from pandas>=1.0.0->swifter) (2025.2)\n",
            "Requirement already satisfied: pyarrow>=14.0.1 in /usr/local/lib/python3.11/dist-packages (from dask-expr<1.2,>=1.1->dask[dataframe]>=2.10.0->swifter) (18.1.0)\n",
            "Requirement already satisfied: zipp>=3.20 in /usr/local/lib/python3.11/dist-packages (from importlib_metadata>=4.13.0->dask>=2.10.0->dask[dataframe]>=2.10.0->swifter) (3.21.0)\n",
            "Requirement already satisfied: locket in /usr/local/lib/python3.11/dist-packages (from partd>=1.4.0->dask>=2.10.0->dask[dataframe]>=2.10.0->swifter) (1.0.0)\n",
            "Requirement already satisfied: six>=1.5 in /usr/local/lib/python3.11/dist-packages (from python-dateutil>=2.8.2->pandas>=1.0.0->swifter) (1.17.0)\n",
            "Building wheels for collected packages: swifter\n",
            "  Building wheel for swifter (setup.py) ... \u001b[?25l\u001b[?25hdone\n",
            "  Created wheel for swifter: filename=swifter-1.4.0-py3-none-any.whl size=16505 sha256=5130f93f9d76b069140cde559a7ef74c9909e5fcc3a98a81a3e94df3b6c4115b\n",
            "  Stored in directory: /root/.cache/pip/wheels/ef/7f/bd/9bed48f078f3ee1fa75e0b29b6e0335ce1cb03a38d3443b3a3\n",
            "Successfully built swifter\n",
            "Installing collected packages: swifter\n",
            "Successfully installed swifter-1.4.0\n",
            "Collecting scikeras\n",
            "  Downloading scikeras-0.13.0-py3-none-any.whl.metadata (3.1 kB)\n",
            "Requirement already satisfied: keras>=3.2.0 in /usr/local/lib/python3.11/dist-packages (from scikeras) (3.8.0)\n",
            "Requirement already satisfied: scikit-learn>=1.4.2 in /usr/local/lib/python3.11/dist-packages (from scikeras) (1.6.1)\n",
            "Requirement already satisfied: absl-py in /usr/local/lib/python3.11/dist-packages (from keras>=3.2.0->scikeras) (1.4.0)\n",
            "Requirement already satisfied: numpy in /usr/local/lib/python3.11/dist-packages (from keras>=3.2.0->scikeras) (2.0.2)\n",
            "Requirement already satisfied: rich in /usr/local/lib/python3.11/dist-packages (from keras>=3.2.0->scikeras) (13.9.4)\n",
            "Requirement already satisfied: namex in /usr/local/lib/python3.11/dist-packages (from keras>=3.2.0->scikeras) (0.0.8)\n",
            "Requirement already satisfied: h5py in /usr/local/lib/python3.11/dist-packages (from keras>=3.2.0->scikeras) (3.13.0)\n",
            "Requirement already satisfied: optree in /usr/local/lib/python3.11/dist-packages (from keras>=3.2.0->scikeras) (0.15.0)\n",
            "Requirement already satisfied: ml-dtypes in /usr/local/lib/python3.11/dist-packages (from keras>=3.2.0->scikeras) (0.4.1)\n",
            "Requirement already satisfied: packaging in /usr/local/lib/python3.11/dist-packages (from keras>=3.2.0->scikeras) (24.2)\n",
            "Requirement already satisfied: scipy>=1.6.0 in /usr/local/lib/python3.11/dist-packages (from scikit-learn>=1.4.2->scikeras) (1.14.1)\n",
            "Requirement already satisfied: joblib>=1.2.0 in /usr/local/lib/python3.11/dist-packages (from scikit-learn>=1.4.2->scikeras) (1.4.2)\n",
            "Requirement already satisfied: threadpoolctl>=3.1.0 in /usr/local/lib/python3.11/dist-packages (from scikit-learn>=1.4.2->scikeras) (3.6.0)\n",
            "Requirement already satisfied: typing-extensions>=4.5.0 in /usr/local/lib/python3.11/dist-packages (from optree->keras>=3.2.0->scikeras) (4.13.2)\n",
            "Requirement already satisfied: markdown-it-py>=2.2.0 in /usr/local/lib/python3.11/dist-packages (from rich->keras>=3.2.0->scikeras) (3.0.0)\n",
            "Requirement already satisfied: pygments<3.0.0,>=2.13.0 in /usr/local/lib/python3.11/dist-packages (from rich->keras>=3.2.0->scikeras) (2.18.0)\n",
            "Requirement already satisfied: mdurl~=0.1 in /usr/local/lib/python3.11/dist-packages (from markdown-it-py>=2.2.0->rich->keras>=3.2.0->scikeras) (0.1.2)\n",
            "Downloading scikeras-0.13.0-py3-none-any.whl (26 kB)\n",
            "Installing collected packages: scikeras\n",
            "Successfully installed scikeras-0.13.0\n",
            "Collecting optuna\n",
            "  Downloading optuna-4.3.0-py3-none-any.whl.metadata (17 kB)\n",
            "Collecting alembic>=1.5.0 (from optuna)\n",
            "  Downloading alembic-1.15.2-py3-none-any.whl.metadata (7.3 kB)\n",
            "Collecting colorlog (from optuna)\n",
            "  Downloading colorlog-6.9.0-py3-none-any.whl.metadata (10 kB)\n",
            "Requirement already satisfied: numpy in /usr/local/lib/python3.11/dist-packages (from optuna) (2.0.2)\n",
            "Requirement already satisfied: packaging>=20.0 in /usr/local/lib/python3.11/dist-packages (from optuna) (24.2)\n",
            "Requirement already satisfied: sqlalchemy>=1.4.2 in /usr/local/lib/python3.11/dist-packages (from optuna) (2.0.40)\n",
            "Requirement already satisfied: tqdm in /usr/local/lib/python3.11/dist-packages (from optuna) (4.67.1)\n",
            "Requirement already satisfied: PyYAML in /usr/local/lib/python3.11/dist-packages (from optuna) (6.0.2)\n",
            "Requirement already satisfied: Mako in /usr/lib/python3/dist-packages (from alembic>=1.5.0->optuna) (1.1.3)\n",
            "Requirement already satisfied: typing-extensions>=4.12 in /usr/local/lib/python3.11/dist-packages (from alembic>=1.5.0->optuna) (4.13.2)\n",
            "Requirement already satisfied: greenlet>=1 in /usr/local/lib/python3.11/dist-packages (from sqlalchemy>=1.4.2->optuna) (3.2.0)\n",
            "Downloading optuna-4.3.0-py3-none-any.whl (386 kB)\n",
            "\u001b[2K   \u001b[90m━━━━━━━━━━━━━━━━━━━━━━━━━━━━━━━━━━━━━━━━\u001b[0m \u001b[32m386.6/386.6 kB\u001b[0m \u001b[31m11.8 MB/s\u001b[0m eta \u001b[36m0:00:00\u001b[0m\n",
            "\u001b[?25hDownloading alembic-1.15.2-py3-none-any.whl (231 kB)\n",
            "\u001b[2K   \u001b[90m━━━━━━━━━━━━━━━━━━━━━━━━━━━━━━━━━━━━━━━━\u001b[0m \u001b[32m231.9/231.9 kB\u001b[0m \u001b[31m20.8 MB/s\u001b[0m eta \u001b[36m0:00:00\u001b[0m\n",
            "\u001b[?25hDownloading colorlog-6.9.0-py3-none-any.whl (11 kB)\n",
            "Installing collected packages: colorlog, alembic, optuna\n",
            "Successfully installed alembic-1.15.2 colorlog-6.9.0 optuna-4.3.0\n"
          ]
        }
      ]
    },
    {
      "cell_type": "code",
      "execution_count": null,
      "metadata": {
        "colab": {
          "base_uri": "https://localhost:8080/"
        },
        "id": "8pO9ppV_YQaW",
        "outputId": "e06c72fb-8fe2-4797-b5c2-1eca1e1ee510"
      },
      "outputs": [
        {
          "output_type": "stream",
          "name": "stdout",
          "text": [
            "   Id   ProductId          UserId                      ProfileName  \\\n",
            "0   1  B001E4KFG0  A3SGXH7AUHU8GW                       delmartian   \n",
            "1   2  B00813GRG4  A1D87F6ZCVE5NK                           dll pa   \n",
            "2   3  B000LQOCH0   ABXLMWJIXXAIN  Natalia Corres \"Natalia Corres\"   \n",
            "3   4  B000UA0QIQ  A395BORC6FGVXV                             Karl   \n",
            "4   5  B006K2ZZ7K  A1UQRSCLF8GW1T    Michael D. Bigham \"M. Wassir\"   \n",
            "\n",
            "   HelpfulnessNumerator  HelpfulnessDenominator  Score        Time  \\\n",
            "0                     1                       1      5  1303862400   \n",
            "1                     0                       0      1  1346976000   \n",
            "2                     1                       1      4  1219017600   \n",
            "3                     3                       3      2  1307923200   \n",
            "4                     0                       0      5  1350777600   \n",
            "\n",
            "                 Summary                                               Text  \n",
            "0  Good Quality Dog Food  I have bought several of the Vitality canned d...  \n",
            "1      Not as Advertised  Product arrived labeled as Jumbo Salted Peanut...  \n",
            "2  \"Delight\" says it all  This is a confection that has been around a fe...  \n",
            "3         Cough Medicine  If you are looking for the secret ingredient i...  \n",
            "4            Great taffy  Great taffy at a great price.  There was a wid...  \n"
          ]
        }
      ],
      "source": [
        "#IMPORT DATASET\n",
        "#Load the reviews dataset for training\n",
        "reviewdata = pd.read_csv('Reviews.csv') #import amazon fine food reviews dataset\n",
        "print(reviewdata.head()) #print few first rows of dataset"
      ]
    },
    {
      "cell_type": "code",
      "execution_count": null,
      "metadata": {
        "id": "j-q3l5ghYQaW",
        "outputId": "42bd8997-8950-4fff-8699-8c64840e680c"
      },
      "outputs": [
        {
          "name": "stdout",
          "output_type": "stream",
          "text": [
            "   Score                Summary  \\\n",
            "0      5  Good Quality Dog Food   \n",
            "1      1      Not as Advertised   \n",
            "2      4  \"Delight\" says it all   \n",
            "3      2         Cough Medicine   \n",
            "4      5            Great taffy   \n",
            "\n",
            "                                                Text  \n",
            "0  I have bought several of the Vitality canned d...  \n",
            "1  Product arrived labeled as Jumbo Salted Peanut...  \n",
            "2  This is a confection that has been around a fe...  \n",
            "3  If you are looking for the secret ingredient i...  \n",
            "4  Great taffy at a great price.  There was a wid...  \n"
          ]
        }
      ],
      "source": [
        "#EXTRACT IMPORTANT COLUMNS SIGNIFICANTLY FOR TRAINING\n",
        "reviews = reviewdata[['Score','Summary','Text']] #Extracted rating score, summary and review text data\n",
        "print(reviews.head()) #print few first rows of the selected column"
      ]
    },
    {
      "cell_type": "code",
      "execution_count": null,
      "metadata": {
        "id": "0ZulvZELYQaX",
        "outputId": "f44c6d31-d540-45e4-b74e-d7b3357b6717"
      },
      "outputs": [
        {
          "name": "stderr",
          "output_type": "stream",
          "text": [
            "C:\\Users\\joenl\\AppData\\Local\\Temp\\ipykernel_21764\\2679524761.py:2: SettingWithCopyWarning: \n",
            "A value is trying to be set on a copy of a slice from a DataFrame\n",
            "\n",
            "See the caveats in the documentation: https://pandas.pydata.org/pandas-docs/stable/user_guide/indexing.html#returning-a-view-versus-a-copy\n",
            "  reviews.dropna(inplace=True) #remove missing values\n",
            "C:\\Users\\joenl\\AppData\\Local\\Temp\\ipykernel_21764\\2679524761.py:3: SettingWithCopyWarning: \n",
            "A value is trying to be set on a copy of a slice from a DataFrame\n",
            "\n",
            "See the caveats in the documentation: https://pandas.pydata.org/pandas-docs/stable/user_guide/indexing.html#returning-a-view-versus-a-copy\n",
            "  reviews.drop_duplicates(inplace=True) #remove duplicate values\n"
          ]
        }
      ],
      "source": [
        "#HANDLE MISSING VALUES AND DUPLICATES FOR SELECTED COLUMNS\n",
        "reviews.dropna(inplace=True) #remove missing values\n",
        "reviews.drop_duplicates(inplace=True) #remove duplicate values"
      ]
    },
    {
      "cell_type": "code",
      "execution_count": null,
      "metadata": {
        "id": "KEooo_bwYQaX"
      },
      "outputs": [],
      "source": [
        "#REMOVE DATA OUTLIERS FOR SCORE COLUMN (NUMERICAL DATA)\n",
        "#USING INTERQUARTILE RANGE METHOD (IQR)\n",
        "if pd.api.types.is_numeric_dtype(reviews['Score']):\n",
        "    Q1 = reviews['Score'].quantile(0.25)\n",
        "    Q3 = reviews['Score'].quantile(0.75)\n",
        "    IQR = Q3 - Q1\n",
        "\n",
        "    lower_boundary = Q1 - 1.5*IQR\n",
        "    upper_boundary = Q3 + 1.5*IQR\n",
        "\n",
        "    reviews = reviews[(reviews['Score'] >= lower_boundary) & (reviews['Score'] <= upper_boundary)]"
      ]
    },
    {
      "cell_type": "code",
      "execution_count": null,
      "metadata": {
        "id": "eV4vq8cpYQaX"
      },
      "outputs": [],
      "source": [
        "#REMOVE DATA ANOMALIES FOR TEXT AND SUMMARY COLUMN (TEXT DATA)\n",
        "reviews = reviews[(reviews['Text'].str.len() > 5) & (reviews['Text'].str.len() < 1000)]\n",
        "reviews = reviews[(reviews['Summary'].str.len() > 3) & (reviews['Summary'].str.len() < 300)]"
      ]
    },
    {
      "cell_type": "code",
      "execution_count": null,
      "metadata": {
        "id": "TWrEPFGKYQaY",
        "outputId": "376c0185-7849-427d-a8b5-ecaa3626ebc1"
      },
      "outputs": [
        {
          "name": "stdout",
          "output_type": "stream",
          "text": [
            "(311049, 3)\n"
          ]
        }
      ],
      "source": [
        "reviews = reviews.drop_duplicates()\n",
        "print(reviews.shape)  # Should still be (311049, columns)\n"
      ]
    },
    {
      "cell_type": "code",
      "execution_count": null,
      "metadata": {
        "id": "M0Z5PCGNYQaY",
        "outputId": "eec22aa6-a373-405c-be73-34f521a53c83"
      },
      "outputs": [
        {
          "name": "stderr",
          "output_type": "stream",
          "text": [
            "[nltk_data] Downloading package punkt to\n",
            "[nltk_data]     C:\\Users\\joenl\\AppData\\Roaming\\nltk_data...\n",
            "[nltk_data]   Package punkt is already up-to-date!\n",
            "[nltk_data] Downloading package stopwords to\n",
            "[nltk_data]     C:\\Users\\joenl\\AppData\\Roaming\\nltk_data...\n",
            "[nltk_data]   Package stopwords is already up-to-date!\n",
            "100%|██████████| 311049/311049 [56:32<00:00, 91.70it/s]  \n",
            "100%|██████████| 311049/311049 [19:10<00:00, 270.39it/s]\n"
          ]
        },
        {
          "name": "stdout",
          "output_type": "stream",
          "text": [
            "   Score                                        Summary  \\\n",
            "0      5                          Good Quality Dog Food   \n",
            "2      4                          \"Delight\" says it all   \n",
            "4      5                                    Great taffy   \n",
            "5      4                                     Nice Taffy   \n",
            "6      5  Great!  Just as good as the expensive brands!   \n",
            "\n",
            "                                                Text  \\\n",
            "0  I have bought several of the Vitality canned d...   \n",
            "2  This is a confection that has been around a fe...   \n",
            "4  Great taffy at a great price.  There was a wid...   \n",
            "5  I got a wild hair for taffy and ordered this f...   \n",
            "6  This saltwater taffy had great flavors and was...   \n",
            "\n",
            "                                      Tokenized_text  \\\n",
            "0  bought several vitality canned dog food produc...   \n",
            "2  confection around centuries light pillowy citr...   \n",
            "4  great taffy great price wide assortment yummy ...   \n",
            "5  got wild hair taffy ordered five pound bag taf...   \n",
            "6  saltwater taffy great flavors soft chewy candy...   \n",
            "\n",
            "             Tokenized_summary  \n",
            "0        good quality dog food  \n",
            "2                 delight says  \n",
            "4                  great taffy  \n",
            "5                   nice taffy  \n",
            "6  great good expensive brands  \n"
          ]
        },
        {
          "data": {
            "image/png": "[encoded data removed]",
            "text/plain": [
              "<Figure size 640x480 with 1 Axes>"
            ]
          },
          "metadata": {},
          "output_type": "display_data"
        }
      ],
      "source": [
        "#TEXT PREPROCESSING\n",
        "#Import NLTK Resouces needed\n",
        "nltk.download('punkt')\n",
        "nltk.download('stopwords')\n",
        "#Progress bar display\n",
        "from tqdm import tqdm\n",
        "\n",
        "#Load stopwords one time for efficiency\n",
        "stop_words = set(stopwords.words('english'))\n",
        "\n",
        "#Load spacy model for tokenization\n",
        "spacy_token = spacy.load(\"en_core_web_sm\", disable=[\"parser\", \"ner\"])\n",
        "\n",
        "#Progress bar using Pandas\n",
        "tqdm.pandas()\n",
        "\n",
        "#Create preprocessing function to clean and preprocess input texts\n",
        "def preprocess_text(text):\n",
        "    if pd.isna(text): #Check missing values\n",
        "        return \" \"\n",
        "    text = text.lower() #lower case the text\n",
        "    text = re.sub(r'[^a-zA-Z]', ' ', text) #remove special characters from text\n",
        "    text = re.sub(r'\\s+', ' ', text).strip() #remove extra spaces between text\n",
        "    #text = re.sub(r'\\d+', ' ', text) #remove any numbers in text\n",
        "    #tokens = word_tokenize(text) #tokenize the text\n",
        "    tokens = [token.text for token in spacy_token(text) if token.text not in stop_words]\n",
        "    #tokens = [word for word in tokens if word not in stopwords.words('english')] #remove stopwords\n",
        "    return ' '.join(tokens)\n",
        "\n",
        "#Apply preprocessing on the selected columns\n",
        "reviews['Tokenized_text'] = reviews['Text'].progress_apply(preprocess_text)\n",
        "reviews['Tokenized_summary'] = reviews['Summary'].progress_apply(preprocess_text)\n",
        "\n",
        "#Display tokenized column results\n",
        "print(reviews.head())\n",
        "\n",
        "#Cleaned Score distribution\n",
        "sns.boxplot(x=reviews['Score'])\n",
        "plt.show()\n"
      ]
    },
    {
      "cell_type": "code",
      "execution_count": null,
      "metadata": {
        "id": "WGwNJUhfYQaY"
      },
      "outputs": [],
      "source": [
        "#SAVE PREPROCESSED DATA (CLEANED DATA)\n",
        "reviews.to_csv('Preprocessed_reviews.csv', index=False, encoding='utf-8')\n"
      ]
    },
    {
      "cell_type": "markdown",
      "source": [
        "Run with the preprocessed data"
      ],
      "metadata": {
        "id": "rjurGFd3Onvp"
      }
    },
    {
      "cell_type": "code",
      "execution_count": null,
      "metadata": {
        "colab": {
          "base_uri": "https://localhost:8080/"
        },
        "id": "s7jzaoTSYQaZ",
        "outputId": "38b9dc63-b729-4afd-e8c0-3d1a8f0f8642"
      },
      "outputs": [
        {
          "output_type": "stream",
          "name": "stdout",
          "text": [
            " Score                                       Summary                                               Text                                     Tokenized_text           Tokenized_summary\n",
            "     5                         Good Quality Dog Food I have bought several of the Vitality canned do... bought several vitality canned dog food product...       good quality dog food\n",
            "     4                         \"Delight\" says it all This is a confection that has been around a few... confection around centuries light pillowy citru...                delight says\n",
            "     5                                   Great taffy Great taffy at a great price.  There was a wide... great taffy great price wide assortment yummy t...                 great taffy\n",
            "     4                                    Nice Taffy I got a wild hair for taffy and ordered this fi... got wild hair taffy ordered five pound bag taff...                  nice taffy\n",
            "     5 Great!  Just as good as the expensive brands! This saltwater taffy had great flavors and was ... saltwater taffy great flavors soft chewy candy ... great good expensive brands\n"
          ]
        }
      ],
      "source": [
        "#Run only the cleaned preprocessed data\n",
        "reviews = pd.read_csv('Preprocessed_reviews.csv', low_memory=False)\n",
        "print(reviews.head().to_string(index=False, max_colwidth=50))"
      ]
    },
    {
      "cell_type": "code",
      "execution_count": null,
      "metadata": {
        "colab": {
          "base_uri": "https://localhost:8080/"
        },
        "id": "hJsav9PlYQaZ",
        "outputId": "03745269-13ac-4f9a-ccc2-470584d5aba2"
      },
      "outputs": [
        {
          "output_type": "stream",
          "name": "stdout",
          "text": [
            "        Score Sentiment\n",
            "311019      5  Positive\n",
            "311020      4   Neutral\n",
            "311021      5  Positive\n",
            "311022      5  Positive\n",
            "311023      4   Neutral\n",
            "311024      5  Positive\n",
            "311025      3  Negative\n",
            "311026      5  Positive\n",
            "311027      5  Positive\n",
            "311028      5  Positive\n",
            "311029      5  Positive\n",
            "311030      5  Positive\n",
            "311031      5  Positive\n",
            "311032      5  Positive\n",
            "311033      5  Positive\n",
            "311034      5  Positive\n",
            "311035      5  Positive\n",
            "311036      4   Neutral\n",
            "311037      5  Positive\n",
            "311038      5  Positive\n",
            "311039      5  Positive\n",
            "311040      5  Positive\n",
            "311041      5  Positive\n",
            "311042      5  Positive\n",
            "311043      5  Positive\n",
            "311044      5  Positive\n",
            "311045      5  Positive\n",
            "311046      5  Positive\n",
            "311047      5  Positive\n",
            "311048      5  Positive\n"
          ]
        }
      ],
      "source": [
        "#Convert numerical scores into sentiment labels for classification\n",
        "\n",
        "def classify_sentiment(score):\n",
        "    if score >= 5:\n",
        "        return 'Positive'\n",
        "    elif score == 4:\n",
        "        return 'Neutral'\n",
        "    else:\n",
        "        return 'Negative'\n",
        "\n",
        "#Apply sentiment labels\n",
        "reviews['Sentiment'] = reviews['Score'].apply(classify_sentiment)\n",
        "\n",
        "print(reviews[['Score', 'Sentiment']].tail(30))"
      ]
    },
    {
      "cell_type": "code",
      "execution_count": null,
      "metadata": {
        "id": "5TU7n5NUYQaZ"
      },
      "outputs": [],
      "source": [
        "#Define X (features) and y (target variable)\n",
        "\n",
        "X = reviews['Tokenized_text']\n",
        "y = reviews['Sentiment']"
      ]
    },
    {
      "cell_type": "code",
      "execution_count": null,
      "metadata": {
        "id": "U2NSs2ZeYQaZ"
      },
      "outputs": [],
      "source": [
        "#SPLIT TO TEST AND TRAIN SETS\n",
        "X_train, X_test, y_train, y_test = train_test_split(\n",
        "    X, y, test_size=0.2, random_state=42)"
      ]
    },
    {
      "cell_type": "code",
      "execution_count": null,
      "metadata": {
        "colab": {
          "base_uri": "https://localhost:8080/"
        },
        "id": "fSAvvIcvYQaa",
        "outputId": "16afc32e-b1fe-4292-aec7-e36678fe8f7f"
      },
      "outputs": [
        {
          "output_type": "stream",
          "name": "stdout",
          "text": [
            "Training data size:  248838 248838\n",
            "Testing data size:  62210\n"
          ]
        }
      ],
      "source": [
        "#TRAINING AND TESTING SETS\n",
        "\n",
        "# Concatenate X_train and y_train to drop NaNs consistently\n",
        "train_data = pd.DataFrame({'text': X_train, 'label': y_train})\n",
        "train_data = train_data.dropna()\n",
        "\n",
        "# Separate\n",
        "X_train = train_data['text']\n",
        "y_train = train_data['label']\n",
        "\n",
        "\n",
        "print(\"Training data size: \", len(X_train), len(y_train))\n",
        "print(\"Testing data size: \", len(X_test))"
      ]
    },
    {
      "cell_type": "code",
      "execution_count": null,
      "metadata": {
        "id": "rxPyJcEPYQaa"
      },
      "outputs": [],
      "source": [
        "#Train Naive Bayes algorithm as simple baseline\n",
        "#Convert all text data into TF-IDF features\n",
        "NB_vectorizer = TfidfVectorizer(max_features=5000)\n",
        "X_train_Tfidf = NB_vectorizer.fit_transform(X_train)\n",
        "X_test_Tfidf = NB_vectorizer.transform(X_test)\n",
        "\n",
        "# Encode labels\n",
        "label_map = {'Positive': 0, 'Neutral': 1, 'Negative': 2}\n",
        "y_train_encoded = np.array([label_map[label] for label in y_train])\n",
        "y_test_encoded = np.array([label_map[label] for label in y_test])\n"
      ]
    },
    {
      "cell_type": "code",
      "execution_count": null,
      "metadata": {
        "id": "ddZJtxjnYQaa"
      },
      "outputs": [],
      "source": [
        "#Train Naive Bayes model\n",
        "NaiveBayes = MultinomialNB()\n",
        "NaiveBayes.fit(X_train_Tfidf, y_train_encoded)\n",
        "\n",
        "# Get probability predictions\n",
        "NaiveBayes_ypred_prob = NaiveBayes.predict_proba(X_test_Tfidf) #prob predictions\n",
        "NaiveBayes_ypred = NaiveBayes.predict(X_test_Tfidf)  # Class labels"
      ]
    },
    {
      "cell_type": "code",
      "execution_count": null,
      "metadata": {
        "colab": {
          "base_uri": "https://localhost:8080/"
        },
        "id": "roR6uU_wYQaa",
        "outputId": "7cb11964-1262-4b4e-bd7c-6e743a1314ed"
      },
      "outputs": [
        {
          "output_type": "stream",
          "name": "stdout",
          "text": [
            "NB algorithm accuracy:  0.7574987944060441\n",
            "              precision    recall  f1-score   support\n",
            "\n",
            "           0       0.76      1.00      0.86     46859\n",
            "           1       0.49      0.02      0.04     10168\n",
            "           2       0.73      0.02      0.05      5183\n",
            "\n",
            "    accuracy                           0.76     62210\n",
            "   macro avg       0.66      0.35      0.32     62210\n",
            "weighted avg       0.71      0.76      0.66     62210\n",
            "\n",
            "[[46778    73     8]\n",
            " [ 9912   217    39]\n",
            " [ 4899   155   129]]\n"
          ]
        }
      ],
      "source": [
        "#Print evaluation matrix and accuracy for NB algorithm\n",
        "print(\"NB algorithm accuracy: \", accuracy_score(y_test_encoded, NaiveBayes_ypred))\n",
        "print(classification_report(y_test_encoded, NaiveBayes_ypred))\n",
        "print(confusion_matrix(y_test_encoded, NaiveBayes_ypred))"
      ]
    },
    {
      "cell_type": "code",
      "execution_count": null,
      "metadata": {
        "colab": {
          "base_uri": "https://localhost:8080/",
          "height": 579,
          "referenced_widgets": [
            "4c015673d5f346368a17e62393ec496d",
            "9c5853c3a4014f64b851e38800498948",
            "43700b2a791b4d3cb4ae97fb193a2aff",
            "b46e01da4acc4ae9a5561fb2250b0b03",
            "636a8c5b792b457dad9dfbdf7e060da3",
            "78ac6659f384433fbd187afd980644d9",
            "e374aedf374f44ebaa0acafd75a53b54",
            "f21cae3fcf1c45f4af5f6c0f0d46983e",
            "b238fea791964fab9e96325c92fd04f6",
            "d0c9a6f49ece45c5ac9fd6f08983e793",
            "7a4dd74325664739942a83039a590d49",
            "2bfe67efd85a400e91cfcc9bd234e389",
            "0f7c1715e73145a48add0093361dd177",
            "a15c01e4de5d466b87ee17e67a1e7a6a",
            "046e86a4c1fe4057befc3dab87d6c592",
            "bc9bb6d77d3541d68d1ba78639109b8d",
            "1a1ea2be431d4a8f996f6fbdf5146167",
            "1b8a245f81fc4e8ebe4e403f7febbc27",
            "88b118f8581c4dada96ece8f6f1446a4",
            "08e4d09f67d1437c8086b2a1f5a7c55f",
            "0ed883321ae541deb942d1805c391d25",
            "570eb52a6cde47919b659a94e338eadd",
            "410d1e58efed407aa713c2603ddff597",
            "b923f13111744018a40ceb9cde4cabbc",
            "79a22baf72eb48e2b5968949b06a9c7b",
            "dcf4bc6e80cc4ec188be9595636b7aa8",
            "559eb999d3a54144ac8ba4c4499fc601",
            "8438551d444040fe976e333678a117b5",
            "8330437268ca416da49f1179c71f8534",
            "a3b5d540926d466388636d3fee81582f",
            "dcac02b404e64fb78fa5d61437cee636",
            "1e3f5d80c8da4baa89bbcc44d7468730",
            "18897ef8e8b34a0e9c2b14d54f3d9ab8",
            "7c096bdda17c44a5b88095fed7924622",
            "0918f37e231645ee8e88c75c6dc8a868",
            "4f84662cef334b05b1d761a58988d058",
            "ed491586b67345d8add2451c974ad6f2",
            "9c90f527c7b84fb48982b8b28571a137",
            "304fbed8ce3c46b78d909b30210733e9",
            "e271cf5126cb4758b50b1afd363088be",
            "e69bda4707734493a4bc1bdbe14c5ee2",
            "3ba03676a6f2411ab7868680347449ac",
            "1cfec6b73c6c403788cd3e9380071e0c",
            "4a410a6bf08441978cb0f78afefb9583",
            "09370aec89f3472b8ea5977077a880c2",
            "b963edb588914462b6afc54ca47ddbc6",
            "bd5454778fd4470ea236d19407e0ca16",
            "d6b792cc42464f5aba2cfb43960b0796",
            "653566fa70f048d1b46b02fac520481d",
            "4a28784e32444ab28aee3371add71f8e",
            "498c2e4b68d242609b0c0336516e482b",
            "82f125d63fe245fe8f663b242f039f0a",
            "dd3602a2073e4bbfae5bc5ff428ab01e",
            "31a6c42d079540e79bd452efa18a8647",
            "0fe247749f26498e9551f82acca9d990"
          ]
        },
        "id": "5Wtyrjz6YQaa",
        "outputId": "79ec06b5-90ea-4c6c-a530-678234f82666"
      },
      "outputs": [
        {
          "output_type": "stream",
          "name": "stderr",
          "text": [
            "/usr/local/lib/python3.11/dist-packages/huggingface_hub/utils/_auth.py:94: UserWarning: \n",
            "The secret `HF_TOKEN` does not exist in your Colab secrets.\n",
            "To authenticate with the Hugging Face Hub, create a token in your settings tab (https://huggingface.co/settings/tokens), set it as secret in your Google Colab and restart your session.\n",
            "You will be able to reuse this secret in all of your notebooks.\n",
            "Please note that authentication is recommended but still optional to access public models or datasets.\n",
            "  warnings.warn(\n"
          ]
        },
        {
          "output_type": "display_data",
          "data": {
            "text/plain": [
              "tokenizer_config.json:   0%|          | 0.00/48.0 [00:00<?, ?B/s]"
            ],
            "application/vnd.jupyter.widget-view+json": {
              "version_major": 2,
              "version_minor": 0,
              "model_id": "4c015673d5f346368a17e62393ec496d"
            }
          },
          "metadata": {}
        },
        {
          "output_type": "display_data",
          "data": {
            "text/plain": [
              "vocab.txt:   0%|          | 0.00/232k [00:00<?, ?B/s]"
            ],
            "application/vnd.jupyter.widget-view+json": {
              "version_major": 2,
              "version_minor": 0,
              "model_id": "2bfe67efd85a400e91cfcc9bd234e389"
            }
          },
          "metadata": {}
        },
        {
          "output_type": "display_data",
          "data": {
            "text/plain": [
              "tokenizer.json:   0%|          | 0.00/466k [00:00<?, ?B/s]"
            ],
            "application/vnd.jupyter.widget-view+json": {
              "version_major": 2,
              "version_minor": 0,
              "model_id": "410d1e58efed407aa713c2603ddff597"
            }
          },
          "metadata": {}
        },
        {
          "output_type": "display_data",
          "data": {
            "text/plain": [
              "config.json:   0%|          | 0.00/483 [00:00<?, ?B/s]"
            ],
            "application/vnd.jupyter.widget-view+json": {
              "version_major": 2,
              "version_minor": 0,
              "model_id": "7c096bdda17c44a5b88095fed7924622"
            }
          },
          "metadata": {}
        },
        {
          "output_type": "stream",
          "name": "stderr",
          "text": [
            "Xet Storage is enabled for this repo, but the 'hf_xet' package is not installed. Falling back to regular HTTP download. For better performance, install the package with: `pip install huggingface_hub[hf_xet]` or `pip install hf_xet`\n",
            "WARNING:huggingface_hub.file_download:Xet Storage is enabled for this repo, but the 'hf_xet' package is not installed. Falling back to regular HTTP download. For better performance, install the package with: `pip install huggingface_hub[hf_xet]` or `pip install hf_xet`\n"
          ]
        },
        {
          "output_type": "display_data",
          "data": {
            "text/plain": [
              "model.safetensors:   0%|          | 0.00/268M [00:00<?, ?B/s]"
            ],
            "application/vnd.jupyter.widget-view+json": {
              "version_major": 2,
              "version_minor": 0,
              "model_id": "09370aec89f3472b8ea5977077a880c2"
            }
          },
          "metadata": {}
        },
        {
          "output_type": "stream",
          "name": "stderr",
          "text": [
            "Some weights of the PyTorch model were not used when initializing the TF 2.0 model TFDistilBertForSequenceClassification: ['vocab_layer_norm.weight', 'vocab_transform.weight', 'vocab_layer_norm.bias', 'vocab_projector.bias', 'vocab_transform.bias']\n",
            "- This IS expected if you are initializing TFDistilBertForSequenceClassification from a PyTorch model trained on another task or with another architecture (e.g. initializing a TFBertForSequenceClassification model from a BertForPreTraining model).\n",
            "- This IS NOT expected if you are initializing TFDistilBertForSequenceClassification from a PyTorch model that you expect to be exactly identical (e.g. initializing a TFBertForSequenceClassification model from a BertForSequenceClassification model).\n",
            "Some weights or buffers of the TF 2.0 model TFDistilBertForSequenceClassification were not initialized from the PyTorch model and are newly initialized: ['pre_classifier.weight', 'pre_classifier.bias', 'classifier.weight', 'classifier.bias']\n",
            "You should probably TRAIN this model on a down-stream task to be able to use it for predictions and inference.\n"
          ]
        },
        {
          "output_type": "stream",
          "name": "stdout",
          "text": [
            "Epoch 1/4\n",
            "7777/7777 [==============================] - 914s 112ms/step - loss: 0.7221 - accuracy: 0.7556 - val_loss: 0.7175 - val_accuracy: 0.7532\n",
            "Epoch 2/4\n",
            "7777/7777 [==============================] - 848s 109ms/step - loss: 0.7148 - accuracy: 0.7560 - val_loss: 0.7170 - val_accuracy: 0.7532\n",
            "Epoch 3/4\n",
            "7777/7777 [==============================] - 840s 108ms/step - loss: 0.7132 - accuracy: 0.7560 - val_loss: 0.7166 - val_accuracy: 0.7532\n",
            "Epoch 4/4\n",
            "7777/7777 [==============================] - 835s 107ms/step - loss: 0.7128 - accuracy: 0.7560 - val_loss: 0.7166 - val_accuracy: 0.7532\n",
            "1945/1945 [==============================] - 59s 29ms/step\n"
          ]
        }
      ],
      "source": [
        "#Train BERT algorithm for complex patterns\n",
        "\n",
        "# Enable mixed precision and XLA\n",
        "policy = mixed_precision.Policy('mixed_float16')\n",
        "mixed_precision.set_global_policy(policy)\n",
        "tf.config.optimizer.set_jit(True)\n",
        "tf.compat.v1.logging.set_verbosity(tf.compat.v1.logging.ERROR)\n",
        "\n",
        "#Load the Bert tokenizer and model\n",
        "Bert_tokens = DistilBertTokenizer.from_pretrained('distilbert-base-uncased')\n",
        "Bert = TFDistilBertForSequenceClassification.from_pretrained('distilbert-base-uncased', num_labels=3)\n",
        "\n",
        "#Function to tokenize text data\n",
        "def encode_texts(texts, max_length=128):\n",
        "    return Bert_tokens(list(texts, padding=True, truncation=True, return_tensors=\"tf\", max_length=max_length))\n",
        "\n",
        "#Tokenize and encode training data\n",
        "X_train_encoded = Bert_tokens(\n",
        "    X_train.tolist(),\n",
        "    padding='longest',\n",
        "    truncation=True,\n",
        "    return_tensors=\"tf\",\n",
        "    max_length=128 #adjust based on dataset size\n",
        ")\n",
        "\n",
        "X_test_encoded = Bert_tokens(\n",
        "    X_test.tolist(),\n",
        "    padding=True,\n",
        "    truncation=True,\n",
        "    return_tensors=\"tf\",\n",
        "    max_length=128 #adjust based on dataset size\n",
        ")\n",
        "\n",
        "#Convert y labels to numerical format\n",
        "label_map = {'Positive': 0, 'Neutral': 1, 'Negative': 2}\n",
        "y_train_encoded = np.array([label_map[label] for label in y_train])\n",
        "y_test_encoded = np.array([label_map[label] for label in y_test])\n",
        "\n",
        "#Train BERT model by passing Adam as string\n",
        "Bert.compile(optimizer='adam', loss=tf.keras.losses.SparseCategoricalCrossentropy(from_logits=True), metrics=['accuracy'])\n",
        "\n",
        "#Early stopping for faster training time\n",
        "early_stopping = EarlyStopping(\n",
        "    monitor='val_loss',\n",
        "    patience=2,\n",
        "    restore_best_weights=True\n",
        ")\n",
        "\n",
        "#Convert input data to TensorFlow tensors\n",
        "X_train_tf = tf.convert_to_tensor(X_train_encoded['input_ids'], dtype=tf.int32)\n",
        "y_train_tf = tf.convert_to_tensor(y_train_encoded, dtype=tf.int32)\n",
        "X_test_tf = tf.convert_to_tensor(X_test_encoded['input_ids'], dtype=tf.int32)\n",
        "y_test_tf = tf.convert_to_tensor(y_test_encoded, dtype=tf.int32)\n",
        "\n",
        "Bert.fit(\n",
        "    X_train_tf, y_train_tf,\n",
        "    epochs=4,\n",
        "    batch_size=32,\n",
        "    validation_data=(X_test_tf, y_test_tf),\n",
        "    callbacks=[early_stopping]\n",
        ")\n",
        "\n",
        "#Probability predictions for BERT\n",
        "Bert_ypred_logits = Bert.predict(X_test_encoded['input_ids']).logits\n",
        "Bert_ypred_prob = tf.nn.softmax(Bert_ypred_logits).numpy()\n",
        "\n",
        "#Convert probabilities to class labels\n",
        "Bert_ypred = np.argmax(Bert_ypred_prob, axis=1)\n",
        "y_test_encoded = np.array([label_map[label] for label in y_test])\n"
      ]
    },
    {
      "cell_type": "code",
      "execution_count": null,
      "metadata": {
        "id": "5-BL3-s4YQab",
        "colab": {
          "base_uri": "https://localhost:8080/"
        },
        "outputId": "2a04ec3e-1078-465e-fb6e-91dd7fd59cc3"
      },
      "outputs": [
        {
          "output_type": "stream",
          "name": "stdout",
          "text": [
            "BERT algorithm accuracy:  0.7532390290950008\n",
            "              precision    recall  f1-score   support\n",
            "\n",
            "           0       0.75      1.00      0.86     46859\n",
            "           1       0.00      0.00      0.00     10168\n",
            "           2       0.00      0.00      0.00      5183\n",
            "\n",
            "    accuracy                           0.75     62210\n",
            "   macro avg       0.25      0.33      0.29     62210\n",
            "weighted avg       0.57      0.75      0.65     62210\n",
            "\n",
            "[[46859     0     0]\n",
            " [10168     0     0]\n",
            " [ 5183     0     0]]\n"
          ]
        },
        {
          "output_type": "stream",
          "name": "stderr",
          "text": [
            "/usr/local/lib/python3.11/dist-packages/sklearn/metrics/_classification.py:1565: UndefinedMetricWarning: Precision is ill-defined and being set to 0.0 in labels with no predicted samples. Use `zero_division` parameter to control this behavior.\n",
            "  _warn_prf(average, modifier, f\"{metric.capitalize()} is\", len(result))\n",
            "/usr/local/lib/python3.11/dist-packages/sklearn/metrics/_classification.py:1565: UndefinedMetricWarning: Precision is ill-defined and being set to 0.0 in labels with no predicted samples. Use `zero_division` parameter to control this behavior.\n",
            "  _warn_prf(average, modifier, f\"{metric.capitalize()} is\", len(result))\n",
            "/usr/local/lib/python3.11/dist-packages/sklearn/metrics/_classification.py:1565: UndefinedMetricWarning: Precision is ill-defined and being set to 0.0 in labels with no predicted samples. Use `zero_division` parameter to control this behavior.\n",
            "  _warn_prf(average, modifier, f\"{metric.capitalize()} is\", len(result))\n"
          ]
        }
      ],
      "source": [
        "#Print evaluation matrix and accuracy for BERT algorithm\n",
        "print(\"BERT algorithm accuracy: \", accuracy_score(y_test_encoded, Bert_ypred))\n",
        "print(classification_report(y_test_encoded, Bert_ypred))\n",
        "print(confusion_matrix(y_test_encoded, Bert_ypred))"
      ]
    },
    {
      "cell_type": "code",
      "execution_count": null,
      "metadata": {
        "id": "fTrJimNIYQab",
        "colab": {
          "base_uri": "https://localhost:8080/"
        },
        "outputId": "9126affb-84f9-402d-c086-b90b039300fa"
      },
      "outputs": [
        {
          "output_type": "stream",
          "name": "stdout",
          "text": [
            "Final model accuracy:  0.7532390290950008\n",
            "              precision    recall  f1-score   support\n",
            "\n",
            "           0       0.75      1.00      0.86     46859\n",
            "           1       0.00      0.00      0.00     10168\n",
            "           2       0.00      0.00      0.00      5183\n",
            "\n",
            "    accuracy                           0.75     62210\n",
            "   macro avg       0.25      0.33      0.29     62210\n",
            "weighted avg       0.57      0.75      0.65     62210\n",
            "\n",
            "[[46859     0     0]\n",
            " [10168     0     0]\n",
            " [ 5183     0     0]]\n"
          ]
        },
        {
          "output_type": "stream",
          "name": "stderr",
          "text": [
            "/usr/local/lib/python3.11/dist-packages/sklearn/metrics/_classification.py:1565: UndefinedMetricWarning: Precision is ill-defined and being set to 0.0 in labels with no predicted samples. Use `zero_division` parameter to control this behavior.\n",
            "  _warn_prf(average, modifier, f\"{metric.capitalize()} is\", len(result))\n",
            "/usr/local/lib/python3.11/dist-packages/sklearn/metrics/_classification.py:1565: UndefinedMetricWarning: Precision is ill-defined and being set to 0.0 in labels with no predicted samples. Use `zero_division` parameter to control this behavior.\n",
            "  _warn_prf(average, modifier, f\"{metric.capitalize()} is\", len(result))\n",
            "/usr/local/lib/python3.11/dist-packages/sklearn/metrics/_classification.py:1565: UndefinedMetricWarning: Precision is ill-defined and being set to 0.0 in labels with no predicted samples. Use `zero_division` parameter to control this behavior.\n",
            "  _warn_prf(average, modifier, f\"{metric.capitalize()} is\", len(result))\n"
          ]
        }
      ],
      "source": [
        "#Combine both predictions (Naive Bayes + BERT)\n",
        "NaiveBayes_ypred_prob = np.array(NaiveBayes_ypred_prob)\n",
        "Bert_ypred_prob = np.array(Bert_ypred_prob)\n",
        "\n",
        "#Weighted average for model (More weight to BERT)\n",
        "Final_prob = (0.4* NaiveBayes_ypred_prob) + (0.6* Bert_ypred_prob)\n",
        "Final_pred = np.argmax(Final_prob, axis=1)\n",
        "\n",
        "#Ensemble model evaluation\n",
        "print(\"Final model accuracy: \", accuracy_score(y_test_encoded, Final_pred))\n",
        "print(classification_report(y_test_encoded, Final_pred))\n",
        "print(confusion_matrix(y_test_encoded, Final_pred))"
      ]
    },
    {
      "cell_type": "code",
      "execution_count": null,
      "metadata": {
        "id": "lXFs1LjnYQab",
        "colab": {
          "base_uri": "https://localhost:8080/"
        },
        "outputId": "8e666d23-7b74-4f04-bf1f-7787ec9d5c44"
      },
      "outputs": [
        {
          "output_type": "stream",
          "name": "stdout",
          "text": [
            "Best Parameters:  {'alpha': 0.1}\n",
            "Best Cross Validation Accuracy:  0.7601290817653602\n",
            "Model Accuracy with best parameters:  0.7580614049188233\n"
          ]
        }
      ],
      "source": [
        "#Apply hypertuning to the result\n",
        "#Naive Bayes (use GridSearchCV)\n",
        "\n",
        "#Define hyperparameter grid for NB\n",
        "parameter_grid = {\n",
        "    'alpha': [0.1, 0.5, 1.0, 5, 10] #smoothing parameter (main hyperparameter)\n",
        "}\n",
        "\n",
        "#Initialize NB model\n",
        "NB_model = MultinomialNB()\n",
        "\n",
        "#Set GridSearchCV\n",
        "grid_search = GridSearchCV(\n",
        "    estimator=NB_model,\n",
        "    param_grid=parameter_grid,\n",
        "    cv=5, #use 5 fold cross validation\n",
        "    scoring='accuracy',\n",
        "    n_jobs=-1 #use available processors\n",
        ")\n",
        "\n",
        "#Perform GridSearch\n",
        "grid_search.fit(X_train_Tfidf, y_train)\n",
        "\n",
        "#Print best parameters and score\n",
        "print('Best Parameters: ', grid_search.best_params_)\n",
        "print('Best Cross Validation Accuracy: ', grid_search.best_score_)\n",
        "\n",
        "#Perform predictions on best parameters\n",
        "NB_model_best = grid_search.best_estimator_\n",
        "y_pred_best = NB_model_best.predict(X_test_Tfidf)\n",
        "\n",
        "#Print Final model accuracy\n",
        "print('Model Accuracy with best parameters: ', accuracy_score(y_test, y_pred_best))"
      ]
    },
    {
      "cell_type": "code",
      "source": [
        "#BERT hypertuning (train once only)\n",
        "# Load tokenizer\n",
        "tokenizer = DistilBertTokenizer.from_pretrained('distilbert-base-uncased')\n",
        "\n",
        "# Tokenization function\n",
        "def tokenize_data(X_data):\n",
        "    encodings = tokenizer(\n",
        "        list(X_data), padding=\"max_length\", truncation=True, max_length=64, return_tensors=\"tf\"\n",
        "    )\n",
        "    return {'input_ids': encodings['input_ids'], 'attention_mask': encodings['attention_mask']}\n",
        "\n",
        "# Tokenize train and test sets\n",
        "X_train_encoded = tokenize_data(X_train)\n",
        "X_test_encoded = tokenize_data(X_test)\n",
        "\n",
        "# Convert labels to NumPy arrays\n",
        "y_train_np = np.array(y_train_encoded, dtype=np.int64)\n",
        "y_test_np = np.array(y_test_encoded, dtype=np.int64)\n",
        "\n",
        "# Create TF Dataset\n",
        "train_dataset = tf.data.Dataset.from_tensor_slices((X_train_encoded, y_train_np)).batch(32).prefetch(tf.data.AUTOTUNE)\n",
        "test_dataset = tf.data.Dataset.from_tensor_slices((X_test_encoded, y_test_np)).batch(32).prefetch(tf.data.AUTOTUNE)\n",
        "\n",
        "# Define the function to create a BERT model\n",
        "def bert_model(learning_rate):\n",
        "    model = TFDistilBertForSequenceClassification.from_pretrained(\n",
        "        'distilbert-base-uncased', num_labels=3\n",
        "    )\n",
        "\n",
        "    # Create a function to return the learning rate for the current step\n",
        "    def lr_scheduler(epoch, lr):\n",
        "        lr_schedule = ExponentialDecay(\n",
        "            initial_learning_rate=learning_rate, decay_steps=1000, decay_rate=0.9, staircase=True\n",
        "        )\n",
        "        return lr_schedule(epoch)  # Pass the epoch as the step\n",
        "\n",
        "    # Update the learning rate using the lr_scheduler before each epoch\n",
        "    class CustomCallback(tf.keras.callbacks.Callback):\n",
        "        def on_epoch_begin(self, epoch, logs=None):\n",
        "            lr = lr_scheduler(epoch, self.model.optimizer.lr.numpy())\n",
        "            tf.keras.backend.set_value(self.model.optimizer.lr, lr)\n",
        "\n",
        "        # Add the missing methods to make the callback compatible with TensorFlow\n",
        "        def _implements_train_batch_hooks(self):\n",
        "            return False\n",
        "\n",
        "        def _implements_test_batch_hooks(self):\n",
        "            return False\n",
        "\n",
        "        def _implements_predict_batch_hooks(self):\n",
        "            return False\n",
        "\n",
        "    optimizer = Adam(learning_rate=learning_rate)\n",
        "\n",
        "    model.compile(\n",
        "        optimizer=optimizer,\n",
        "        loss=tf.keras.losses.SparseCategoricalCrossentropy(from_logits=True),\n",
        "        metrics=['accuracy']\n",
        "    )\n",
        "\n",
        "    return model, CustomCallback()  # Return the custom callback\n",
        "\n",
        "# Define selected hyperparameters\n",
        "selected_params = {\n",
        "    'learning_rate': 5e-5,  # Selected learning rate\n",
        "    'batch_size': 16,  # Selected batch size\n",
        "    'epochs': 3  # Selected number of epochs\n",
        "}\n",
        "\n",
        "print(f\"\\nTraining with Selected Hyperparameters: {selected_params}\")\n",
        "\n",
        "# Create model with selected hyperparameters\n",
        "model, custom_callback = bert_model(learning_rate=selected_params['learning_rate'])\n",
        "\n",
        "# Train the model\n",
        "history = model.fit(\n",
        "    train_dataset,\n",
        "    validation_data=test_dataset,\n",
        "    epochs=selected_params['epochs'],\n",
        "    callbacks=[custom_callback],  # Use custom callback\n",
        "    verbose=1\n",
        ")\n",
        "\n",
        "# Evaluate the model\n",
        "y_pred = model.predict(test_dataset)\n",
        "y_pred = np.argmax(y_pred.logits, axis=1)  # Extract predictions\n",
        "\n",
        "# Compute final accuracy\n",
        "final_accuracy = accuracy_score(y_test_np, y_pred)\n",
        "print(\"\\nFinal Model Accuracy:\", final_accuracy)\n"
      ],
      "metadata": {
        "colab": {
          "base_uri": "https://localhost:8080/"
        },
        "id": "brYd7XD6-Hop",
        "outputId": "c1b81ab9-6a5c-4604-9d14-142b8770828b"
      },
      "execution_count": null,
      "outputs": [
        {
          "output_type": "stream",
          "name": "stdout",
          "text": [
            "\n",
            "Training with Selected Hyperparameters: {'learning_rate': 5e-05, 'batch_size': 16, 'epochs': 3}\n"
          ]
        },
        {
          "output_type": "stream",
          "name": "stderr",
          "text": [
            "Some weights of the PyTorch model were not used when initializing the TF 2.0 model TFDistilBertForSequenceClassification: ['vocab_layer_norm.weight', 'vocab_transform.weight', 'vocab_layer_norm.bias', 'vocab_projector.bias', 'vocab_transform.bias']\n",
            "- This IS expected if you are initializing TFDistilBertForSequenceClassification from a PyTorch model trained on another task or with another architecture (e.g. initializing a TFBertForSequenceClassification model from a BertForPreTraining model).\n",
            "- This IS NOT expected if you are initializing TFDistilBertForSequenceClassification from a PyTorch model that you expect to be exactly identical (e.g. initializing a TFBertForSequenceClassification model from a BertForSequenceClassification model).\n",
            "Some weights or buffers of the TF 2.0 model TFDistilBertForSequenceClassification were not initialized from the PyTorch model and are newly initialized: ['pre_classifier.weight', 'pre_classifier.bias', 'classifier.weight', 'classifier.bias']\n",
            "You should probably TRAIN this model on a down-stream task to be able to use it for predictions and inference.\n"
          ]
        },
        {
          "output_type": "stream",
          "name": "stdout",
          "text": [
            "Epoch 1/3\n",
            "7777/7777 [==============================] - 569s 69ms/step - loss: 0.5448 - accuracy: 0.7877 - val_loss: 0.5246 - val_accuracy: 0.7933\n",
            "Epoch 2/3\n",
            "7777/7777 [==============================] - 514s 66ms/step - loss: 0.4736 - accuracy: 0.8141 - val_loss: 0.5283 - val_accuracy: 0.7978\n",
            "Epoch 3/3\n",
            "7777/7777 [==============================] - 516s 66ms/step - loss: 0.3970 - accuracy: 0.8447 - val_loss: 0.5697 - val_accuracy: 0.7929\n",
            "1945/1945 [==============================] - 33s 16ms/step\n",
            "\n",
            "Final Model Accuracy: 0.7929271821250603\n"
          ]
        }
      ]
    },
    {
      "cell_type": "code",
      "execution_count": null,
      "metadata": {
        "id": "ZYdCk0MnYQac",
        "colab": {
          "base_uri": "https://localhost:8080/"
        },
        "outputId": "4fef5161-117b-4479-a6be-1ffcf1c72f18"
      },
      "outputs": [
        {
          "output_type": "stream",
          "name": "stdout",
          "text": [
            "1945/1945 [==============================] - 33s 15ms/step\n"
          ]
        }
      ],
      "source": [
        "#Add both hypertune predictions\n",
        "\n",
        "# Get predictions from best NB model and BERT model\n",
        "y_pred_NB = NB_model_best.predict(X_test_Tfidf)\n",
        "y_pred_Bert_output = model.predict(X_test_encoded)\n",
        "\n",
        "# Extract logits from BERT output and convert to class predictions\n",
        "y_pred_Bert = np.argmax(y_pred_Bert_output.logits, axis=1)\n",
        "\n",
        "# Ensemble method using Majority Voting\n",
        "# If both models predict the same, use it; else, prioritize BERT\n",
        "\n",
        "y_pred_ensemble = []\n",
        "for bert, nb in zip(y_pred_Bert, y_pred_NB):\n",
        "    if bert == nb:\n",
        "        y_pred_ensemble.append(bert)  # Both agree, take the prediction\n",
        "    else:\n",
        "        y_pred_ensemble.append(bert)  # Prioritize BERT\n",
        "\n",
        "# Convert list to NumPy array\n",
        "y_pred_ensemble = np.array(y_pred_ensemble)"
      ]
    },
    {
      "cell_type": "code",
      "execution_count": null,
      "metadata": {
        "id": "dRJCrN0wYQac",
        "colab": {
          "base_uri": "https://localhost:8080/"
        },
        "outputId": "ebcca22c-f1d9-4926-ce3f-8f2f6381aaed"
      },
      "outputs": [
        {
          "output_type": "stream",
          "name": "stdout",
          "text": [
            "Final model accuracy:  0.7929271821250603\n",
            "              precision    recall  f1-score   support\n",
            "\n",
            "           0       0.84      0.95      0.89     46859\n",
            "           1       0.50      0.23      0.31     10168\n",
            "           2       0.55      0.45      0.49      5183\n",
            "\n",
            "    accuracy                           0.79     62210\n",
            "   macro avg       0.63      0.54      0.57     62210\n",
            "weighted avg       0.76      0.79      0.76     62210\n",
            "\n",
            "[[44678  1348   833]\n",
            " [ 6772  2318  1078]\n",
            " [ 1925   926  2332]]\n"
          ]
        }
      ],
      "source": [
        "#Print final result with prediction results and accuracy\n",
        "print(\"Final model accuracy: \", accuracy_score(y_test_encoded, y_pred_ensemble))\n",
        "print(classification_report(y_test_encoded, y_pred_ensemble))\n",
        "print(confusion_matrix(y_test_encoded, y_pred_ensemble))\n"
      ]
    },
    {
      "cell_type": "code",
      "source": [
        "#Save hybrid sentiment analysis model\n",
        "import joblib\n",
        "import os\n",
        "\n",
        "# Save Naive Bayes and TF-IDF vectorizer\n",
        "hybrid_model = {\n",
        "    'naive_bayes_model': NaiveBayes,\n",
        "    'tfidf_vectorizer': NB_vectorizer,\n",
        "}\n",
        "\n",
        "# Save as .pkl (only for the scikit-learn models)\n",
        "joblib.dump(hybrid_model, 'hybrid_sentimentmodel.pkl')\n",
        "print(\"Naive Bayes & TF-IDF saved.\")\n",
        "\n",
        "# Save BERT model and tokenizer separately\n",
        "save_path = './bert-sentiment-model'\n",
        "os.makedirs(save_path, exist_ok=True)\n",
        "\n",
        "model.save_pretrained(save_path) #resave this\n",
        "tokenizer.save_pretrained(save_path)\n",
        "print(\"BERT model & tokenizer saved at:\", save_path)\n"
      ],
      "metadata": {
        "id": "Fe6S-_lizHio",
        "colab": {
          "base_uri": "https://localhost:8080/"
        },
        "outputId": "b71b9476-e74e-4f38-a4a1-39d74991df11"
      },
      "execution_count": null,
      "outputs": [
        {
          "output_type": "stream",
          "name": "stdout",
          "text": [
            "Naive Bayes & TF-IDF saved.\n",
            "BERT model & tokenizer saved at: ./bert-sentiment-model\n"
          ]
        }
      ]
    }
  ],
  "metadata": {
    "kernelspec": {
      "display_name": "Python 3",
      "name": "python3"
    },
    "language_info": {
      "codemirror_mode": {
        "name": "ipython",
        "version": 3
      },
      "file_extension": ".py",
      "mimetype": "text/x-python",
      "name": "python",
      "nbconvert_exporter": "python",
      "pygments_lexer": "ipython3",
      "version": "3.10.6"
    },
    "colab": {
      "provenance": [],
      "gpuType": "T4"
    },
    "accelerator": "GPU",
    "widgets": {
      "application/vnd.jupyter.widget-state+json": {
        "4c015673d5f346368a17e62393ec496d": {
          "model_module": "@jupyter-widgets/controls",
          "model_name": "HBoxModel",
          "model_module_version": "1.5.0",
          "state": {
            "_dom_classes": [],
            "_model_module": "@jupyter-widgets/controls",
            "_model_module_version": "1.5.0",
            "_model_name": "HBoxModel",
            "_view_count": null,
            "_view_module": "@jupyter-widgets/controls",
            "_view_module_version": "1.5.0",
            "_view_name": "HBoxView",
            "box_style": "",
            "children": [
              "IPY_MODEL_9c5853c3a4014f64b851e38800498948",
              "IPY_MODEL_43700b2a791b4d3cb4ae97fb193a2aff",
              "IPY_MODEL_b46e01da4acc4ae9a5561fb2250b0b03"
            ],
            "layout": "IPY_MODEL_636a8c5b792b457dad9dfbdf7e060da3"
          }
        },
        "9c5853c3a4014f64b851e38800498948": {
          "model_module": "@jupyter-widgets/controls",
          "model_name": "HTMLModel",
          "model_module_version": "1.5.0",
          "state": {
            "_dom_classes": [],
            "_model_module": "@jupyter-widgets/controls",
            "_model_module_version": "1.5.0",
            "_model_name": "HTMLModel",
            "_view_count": null,
            "_view_module": "@jupyter-widgets/controls",
            "_view_module_version": "1.5.0",
            "_view_name": "HTMLView",
            "description": "",
            "description_tooltip": null,
            "layout": "IPY_MODEL_78ac6659f384433fbd187afd980644d9",
            "placeholder": "​",
            "style": "IPY_MODEL_e374aedf374f44ebaa0acafd75a53b54",
            "value": "tokenizer_config.json: 100%"
          }
        },
        "43700b2a791b4d3cb4ae97fb193a2aff": {
          "model_module": "@jupyter-widgets/controls",
          "model_name": "FloatProgressModel",
          "model_module_version": "1.5.0",
          "state": {
            "_dom_classes": [],
            "_model_module": "@jupyter-widgets/controls",
            "_model_module_version": "1.5.0",
            "_model_name": "FloatProgressModel",
            "_view_count": null,
            "_view_module": "@jupyter-widgets/controls",
            "_view_module_version": "1.5.0",
            "_view_name": "ProgressView",
            "bar_style": "success",
            "description": "",
            "description_tooltip": null,
            "layout": "IPY_MODEL_f21cae3fcf1c45f4af5f6c0f0d46983e",
            "max": 48,
            "min": 0,
            "orientation": "horizontal",
            "style": "IPY_MODEL_b238fea791964fab9e96325c92fd04f6",
            "value": 48
          }
        },
        "b46e01da4acc4ae9a5561fb2250b0b03": {
          "model_module": "@jupyter-widgets/controls",
          "model_name": "HTMLModel",
          "model_module_version": "1.5.0",
          "state": {
            "_dom_classes": [],
            "_model_module": "@jupyter-widgets/controls",
            "_model_module_version": "1.5.0",
            "_model_name": "HTMLModel",
            "_view_count": null,
            "_view_module": "@jupyter-widgets/controls",
            "_view_module_version": "1.5.0",
            "_view_name": "HTMLView",
            "description": "",
            "description_tooltip": null,
            "layout": "IPY_MODEL_d0c9a6f49ece45c5ac9fd6f08983e793",
            "placeholder": "​",
            "style": "IPY_MODEL_7a4dd74325664739942a83039a590d49",
            "value": " 48.0/48.0 [00:00&lt;00:00, 5.01kB/s]"
          }
        },
        "636a8c5b792b457dad9dfbdf7e060da3": {
          "model_module": "@jupyter-widgets/base",
          "model_name": "LayoutModel",
          "model_module_version": "1.2.0",
          "state": {
            "_model_module": "@jupyter-widgets/base",
            "_model_module_version": "1.2.0",
            "_model_name": "LayoutModel",
            "_view_count": null,
            "_view_module": "@jupyter-widgets/base",
            "_view_module_version": "1.2.0",
            "_view_name": "LayoutView",
            "align_content": null,
            "align_items": null,
            "align_self": null,
            "border": null,
            "bottom": null,
            "display": null,
            "flex": null,
            "flex_flow": null,
            "grid_area": null,
            "grid_auto_columns": null,
            "grid_auto_flow": null,
            "grid_auto_rows": null,
            "grid_column": null,
            "grid_gap": null,
            "grid_row": null,
            "grid_template_areas": null,
            "grid_template_columns": null,
            "grid_template_rows": null,
            "height": null,
            "justify_content": null,
            "justify_items": null,
            "left": null,
            "margin": null,
            "max_height": null,
            "max_width": null,
            "min_height": null,
            "min_width": null,
            "object_fit": null,
            "object_position": null,
            "order": null,
            "overflow": null,
            "overflow_x": null,
            "overflow_y": null,
            "padding": null,
            "right": null,
            "top": null,
            "visibility": null,
            "width": null
          }
        },
        "78ac6659f384433fbd187afd980644d9": {
          "model_module": "@jupyter-widgets/base",
          "model_name": "LayoutModel",
          "model_module_version": "1.2.0",
          "state": {
            "_model_module": "@jupyter-widgets/base",
            "_model_module_version": "1.2.0",
            "_model_name": "LayoutModel",
            "_view_count": null,
            "_view_module": "@jupyter-widgets/base",
            "_view_module_version": "1.2.0",
            "_view_name": "LayoutView",
            "align_content": null,
            "align_items": null,
            "align_self": null,
            "border": null,
            "bottom": null,
            "display": null,
            "flex": null,
            "flex_flow": null,
            "grid_area": null,
            "grid_auto_columns": null,
            "grid_auto_flow": null,
            "grid_auto_rows": null,
            "grid_column": null,
            "grid_gap": null,
            "grid_row": null,
            "grid_template_areas": null,
            "grid_template_columns": null,
            "grid_template_rows": null,
            "height": null,
            "justify_content": null,
            "justify_items": null,
            "left": null,
            "margin": null,
            "max_height": null,
            "max_width": null,
            "min_height": null,
            "min_width": null,
            "object_fit": null,
            "object_position": null,
            "order": null,
            "overflow": null,
            "overflow_x": null,
            "overflow_y": null,
            "padding": null,
            "right": null,
            "top": null,
            "visibility": null,
            "width": null
          }
        },
        "e374aedf374f44ebaa0acafd75a53b54": {
          "model_module": "@jupyter-widgets/controls",
          "model_name": "DescriptionStyleModel",
          "model_module_version": "1.5.0",
          "state": {
            "_model_module": "@jupyter-widgets/controls",
            "_model_module_version": "1.5.0",
            "_model_name": "DescriptionStyleModel",
            "_view_count": null,
            "_view_module": "@jupyter-widgets/base",
            "_view_module_version": "1.2.0",
            "_view_name": "StyleView",
            "description_width": ""
          }
        },
        "f21cae3fcf1c45f4af5f6c0f0d46983e": {
          "model_module": "@jupyter-widgets/base",
          "model_name": "LayoutModel",
          "model_module_version": "1.2.0",
          "state": {
            "_model_module": "@jupyter-widgets/base",
            "_model_module_version": "1.2.0",
            "_model_name": "LayoutModel",
            "_view_count": null,
            "_view_module": "@jupyter-widgets/base",
            "_view_module_version": "1.2.0",
            "_view_name": "LayoutView",
            "align_content": null,
            "align_items": null,
            "align_self": null,
            "border": null,
            "bottom": null,
            "display": null,
            "flex": null,
            "flex_flow": null,
            "grid_area": null,
            "grid_auto_columns": null,
            "grid_auto_flow": null,
            "grid_auto_rows": null,
            "grid_column": null,
            "grid_gap": null,
            "grid_row": null,
            "grid_template_areas": null,
            "grid_template_columns": null,
            "grid_template_rows": null,
            "height": null,
            "justify_content": null,
            "justify_items": null,
            "left": null,
            "margin": null,
            "max_height": null,
            "max_width": null,
            "min_height": null,
            "min_width": null,
            "object_fit": null,
            "object_position": null,
            "order": null,
            "overflow": null,
            "overflow_x": null,
            "overflow_y": null,
            "padding": null,
            "right": null,
            "top": null,
            "visibility": null,
            "width": null
          }
        },
        "b238fea791964fab9e96325c92fd04f6": {
          "model_module": "@jupyter-widgets/controls",
          "model_name": "ProgressStyleModel",
          "model_module_version": "1.5.0",
          "state": {
            "_model_module": "@jupyter-widgets/controls",
            "_model_module_version": "1.5.0",
            "_model_name": "ProgressStyleModel",
            "_view_count": null,
            "_view_module": "@jupyter-widgets/base",
            "_view_module_version": "1.2.0",
            "_view_name": "StyleView",
            "bar_color": null,
            "description_width": ""
          }
        },
        "d0c9a6f49ece45c5ac9fd6f08983e793": {
          "model_module": "@jupyter-widgets/base",
          "model_name": "LayoutModel",
          "model_module_version": "1.2.0",
          "state": {
            "_model_module": "@jupyter-widgets/base",
            "_model_module_version": "1.2.0",
            "_model_name": "LayoutModel",
            "_view_count": null,
            "_view_module": "@jupyter-widgets/base",
            "_view_module_version": "1.2.0",
            "_view_name": "LayoutView",
            "align_content": null,
            "align_items": null,
            "align_self": null,
            "border": null,
            "bottom": null,
            "display": null,
            "flex": null,
            "flex_flow": null,
            "grid_area": null,
            "grid_auto_columns": null,
            "grid_auto_flow": null,
            "grid_auto_rows": null,
            "grid_column": null,
            "grid_gap": null,
            "grid_row": null,
            "grid_template_areas": null,
            "grid_template_columns": null,
            "grid_template_rows": null,
            "height": null,
            "justify_content": null,
            "justify_items": null,
            "left": null,
            "margin": null,
            "max_height": null,
            "max_width": null,
            "min_height": null,
            "min_width": null,
            "object_fit": null,
            "object_position": null,
            "order": null,
            "overflow": null,
            "overflow_x": null,
            "overflow_y": null,
            "padding": null,
            "right": null,
            "top": null,
            "visibility": null,
            "width": null
          }
        },
        "7a4dd74325664739942a83039a590d49": {
          "model_module": "@jupyter-widgets/controls",
          "model_name": "DescriptionStyleModel",
          "model_module_version": "1.5.0",
          "state": {
            "_model_module": "@jupyter-widgets/controls",
            "_model_module_version": "1.5.0",
            "_model_name": "DescriptionStyleModel",
            "_view_count": null,
            "_view_module": "@jupyter-widgets/base",
            "_view_module_version": "1.2.0",
            "_view_name": "StyleView",
            "description_width": ""
          }
        },
        "2bfe67efd85a400e91cfcc9bd234e389": {
          "model_module": "@jupyter-widgets/controls",
          "model_name": "HBoxModel",
          "model_module_version": "1.5.0",
          "state": {
            "_dom_classes": [],
            "_model_module": "@jupyter-widgets/controls",
            "_model_module_version": "1.5.0",
            "_model_name": "HBoxModel",
            "_view_count": null,
            "_view_module": "@jupyter-widgets/controls",
            "_view_module_version": "1.5.0",
            "_view_name": "HBoxView",
            "box_style": "",
            "children": [
              "IPY_MODEL_0f7c1715e73145a48add0093361dd177",
              "IPY_MODEL_a15c01e4de5d466b87ee17e67a1e7a6a",
              "IPY_MODEL_046e86a4c1fe4057befc3dab87d6c592"
            ],
            "layout": "IPY_MODEL_bc9bb6d77d3541d68d1ba78639109b8d"
          }
        },
        "0f7c1715e73145a48add0093361dd177": {
          "model_module": "@jupyter-widgets/controls",
          "model_name": "HTMLModel",
          "model_module_version": "1.5.0",
          "state": {
            "_dom_classes": [],
            "_model_module": "@jupyter-widgets/controls",
            "_model_module_version": "1.5.0",
            "_model_name": "HTMLModel",
            "_view_count": null,
            "_view_module": "@jupyter-widgets/controls",
            "_view_module_version": "1.5.0",
            "_view_name": "HTMLView",
            "description": "",
            "description_tooltip": null,
            "layout": "IPY_MODEL_1a1ea2be431d4a8f996f6fbdf5146167",
            "placeholder": "​",
            "style": "IPY_MODEL_1b8a245f81fc4e8ebe4e403f7febbc27",
            "value": "vocab.txt: 100%"
          }
        },
        "a15c01e4de5d466b87ee17e67a1e7a6a": {
          "model_module": "@jupyter-widgets/controls",
          "model_name": "FloatProgressModel",
          "model_module_version": "1.5.0",
          "state": {
            "_dom_classes": [],
            "_model_module": "@jupyter-widgets/controls",
            "_model_module_version": "1.5.0",
            "_model_name": "FloatProgressModel",
            "_view_count": null,
            "_view_module": "@jupyter-widgets/controls",
            "_view_module_version": "1.5.0",
            "_view_name": "ProgressView",
            "bar_style": "success",
            "description": "",
            "description_tooltip": null,
            "layout": "IPY_MODEL_88b118f8581c4dada96ece8f6f1446a4",
            "max": 231508,
            "min": 0,
            "orientation": "horizontal",
            "style": "IPY_MODEL_08e4d09f67d1437c8086b2a1f5a7c55f",
            "value": 231508
          }
        },
        "046e86a4c1fe4057befc3dab87d6c592": {
          "model_module": "@jupyter-widgets/controls",
          "model_name": "HTMLModel",
          "model_module_version": "1.5.0",
          "state": {
            "_dom_classes": [],
            "_model_module": "@jupyter-widgets/controls",
            "_model_module_version": "1.5.0",
            "_model_name": "HTMLModel",
            "_view_count": null,
            "_view_module": "@jupyter-widgets/controls",
            "_view_module_version": "1.5.0",
            "_view_name": "HTMLView",
            "description": "",
            "description_tooltip": null,
            "layout": "IPY_MODEL_0ed883321ae541deb942d1805c391d25",
            "placeholder": "​",
            "style": "IPY_MODEL_570eb52a6cde47919b659a94e338eadd",
            "value": " 232k/232k [00:00&lt;00:00, 3.33MB/s]"
          }
        },
        "bc9bb6d77d3541d68d1ba78639109b8d": {
          "model_module": "@jupyter-widgets/base",
          "model_name": "LayoutModel",
          "model_module_version": "1.2.0",
          "state": {
            "_model_module": "@jupyter-widgets/base",
            "_model_module_version": "1.2.0",
            "_model_name": "LayoutModel",
            "_view_count": null,
            "_view_module": "@jupyter-widgets/base",
            "_view_module_version": "1.2.0",
            "_view_name": "LayoutView",
            "align_content": null,
            "align_items": null,
            "align_self": null,
            "border": null,
            "bottom": null,
            "display": null,
            "flex": null,
            "flex_flow": null,
            "grid_area": null,
            "grid_auto_columns": null,
            "grid_auto_flow": null,
            "grid_auto_rows": null,
            "grid_column": null,
            "grid_gap": null,
            "grid_row": null,
            "grid_template_areas": null,
            "grid_template_columns": null,
            "grid_template_rows": null,
            "height": null,
            "justify_content": null,
            "justify_items": null,
            "left": null,
            "margin": null,
            "max_height": null,
            "max_width": null,
            "min_height": null,
            "min_width": null,
            "object_fit": null,
            "object_position": null,
            "order": null,
            "overflow": null,
            "overflow_x": null,
            "overflow_y": null,
            "padding": null,
            "right": null,
            "top": null,
            "visibility": null,
            "width": null
          }
        },
        "1a1ea2be431d4a8f996f6fbdf5146167": {
          "model_module": "@jupyter-widgets/base",
          "model_name": "LayoutModel",
          "model_module_version": "1.2.0",
          "state": {
            "_model_module": "@jupyter-widgets/base",
            "_model_module_version": "1.2.0",
            "_model_name": "LayoutModel",
            "_view_count": null,
            "_view_module": "@jupyter-widgets/base",
            "_view_module_version": "1.2.0",
            "_view_name": "LayoutView",
            "align_content": null,
            "align_items": null,
            "align_self": null,
            "border": null,
            "bottom": null,
            "display": null,
            "flex": null,
            "flex_flow": null,
            "grid_area": null,
            "grid_auto_columns": null,
            "grid_auto_flow": null,
            "grid_auto_rows": null,
            "grid_column": null,
            "grid_gap": null,
            "grid_row": null,
            "grid_template_areas": null,
            "grid_template_columns": null,
            "grid_template_rows": null,
            "height": null,
            "justify_content": null,
            "justify_items": null,
            "left": null,
            "margin": null,
            "max_height": null,
            "max_width": null,
            "min_height": null,
            "min_width": null,
            "object_fit": null,
            "object_position": null,
            "order": null,
            "overflow": null,
            "overflow_x": null,
            "overflow_y": null,
            "padding": null,
            "right": null,
            "top": null,
            "visibility": null,
            "width": null
          }
        },
        "1b8a245f81fc4e8ebe4e403f7febbc27": {
          "model_module": "@jupyter-widgets/controls",
          "model_name": "DescriptionStyleModel",
          "model_module_version": "1.5.0",
          "state": {
            "_model_module": "@jupyter-widgets/controls",
            "_model_module_version": "1.5.0",
            "_model_name": "DescriptionStyleModel",
            "_view_count": null,
            "_view_module": "@jupyter-widgets/base",
            "_view_module_version": "1.2.0",
            "_view_name": "StyleView",
            "description_width": ""
          }
        },
        "88b118f8581c4dada96ece8f6f1446a4": {
          "model_module": "@jupyter-widgets/base",
          "model_name": "LayoutModel",
          "model_module_version": "1.2.0",
          "state": {
            "_model_module": "@jupyter-widgets/base",
            "_model_module_version": "1.2.0",
            "_model_name": "LayoutModel",
            "_view_count": null,
            "_view_module": "@jupyter-widgets/base",
            "_view_module_version": "1.2.0",
            "_view_name": "LayoutView",
            "align_content": null,
            "align_items": null,
            "align_self": null,
            "border": null,
            "bottom": null,
            "display": null,
            "flex": null,
            "flex_flow": null,
            "grid_area": null,
            "grid_auto_columns": null,
            "grid_auto_flow": null,
            "grid_auto_rows": null,
            "grid_column": null,
            "grid_gap": null,
            "grid_row": null,
            "grid_template_areas": null,
            "grid_template_columns": null,
            "grid_template_rows": null,
            "height": null,
            "justify_content": null,
            "justify_items": null,
            "left": null,
            "margin": null,
            "max_height": null,
            "max_width": null,
            "min_height": null,
            "min_width": null,
            "object_fit": null,
            "object_position": null,
            "order": null,
            "overflow": null,
            "overflow_x": null,
            "overflow_y": null,
            "padding": null,
            "right": null,
            "top": null,
            "visibility": null,
            "width": null
          }
        },
        "08e4d09f67d1437c8086b2a1f5a7c55f": {
          "model_module": "@jupyter-widgets/controls",
          "model_name": "ProgressStyleModel",
          "model_module_version": "1.5.0",
          "state": {
            "_model_module": "@jupyter-widgets/controls",
            "_model_module_version": "1.5.0",
            "_model_name": "ProgressStyleModel",
            "_view_count": null,
            "_view_module": "@jupyter-widgets/base",
            "_view_module_version": "1.2.0",
            "_view_name": "StyleView",
            "bar_color": null,
            "description_width": ""
          }
        },
        "0ed883321ae541deb942d1805c391d25": {
          "model_module": "@jupyter-widgets/base",
          "model_name": "LayoutModel",
          "model_module_version": "1.2.0",
          "state": {
            "_model_module": "@jupyter-widgets/base",
            "_model_module_version": "1.2.0",
            "_model_name": "LayoutModel",
            "_view_count": null,
            "_view_module": "@jupyter-widgets/base",
            "_view_module_version": "1.2.0",
            "_view_name": "LayoutView",
            "align_content": null,
            "align_items": null,
            "align_self": null,
            "border": null,
            "bottom": null,
            "display": null,
            "flex": null,
            "flex_flow": null,
            "grid_area": null,
            "grid_auto_columns": null,
            "grid_auto_flow": null,
            "grid_auto_rows": null,
            "grid_column": null,
            "grid_gap": null,
            "grid_row": null,
            "grid_template_areas": null,
            "grid_template_columns": null,
            "grid_template_rows": null,
            "height": null,
            "justify_content": null,
            "justify_items": null,
            "left": null,
            "margin": null,
            "max_height": null,
            "max_width": null,
            "min_height": null,
            "min_width": null,
            "object_fit": null,
            "object_position": null,
            "order": null,
            "overflow": null,
            "overflow_x": null,
            "overflow_y": null,
            "padding": null,
            "right": null,
            "top": null,
            "visibility": null,
            "width": null
          }
        },
        "570eb52a6cde47919b659a94e338eadd": {
          "model_module": "@jupyter-widgets/controls",
          "model_name": "DescriptionStyleModel",
          "model_module_version": "1.5.0",
          "state": {
            "_model_module": "@jupyter-widgets/controls",
            "_model_module_version": "1.5.0",
            "_model_name": "DescriptionStyleModel",
            "_view_count": null,
            "_view_module": "@jupyter-widgets/base",
            "_view_module_version": "1.2.0",
            "_view_name": "StyleView",
            "description_width": ""
          }
        },
        "410d1e58efed407aa713c2603ddff597": {
          "model_module": "@jupyter-widgets/controls",
          "model_name": "HBoxModel",
          "model_module_version": "1.5.0",
          "state": {
            "_dom_classes": [],
            "_model_module": "@jupyter-widgets/controls",
            "_model_module_version": "1.5.0",
            "_model_name": "HBoxModel",
            "_view_count": null,
            "_view_module": "@jupyter-widgets/controls",
            "_view_module_version": "1.5.0",
            "_view_name": "HBoxView",
            "box_style": "",
            "children": [
              "IPY_MODEL_b923f13111744018a40ceb9cde4cabbc",
              "IPY_MODEL_79a22baf72eb48e2b5968949b06a9c7b",
              "IPY_MODEL_dcf4bc6e80cc4ec188be9595636b7aa8"
            ],
            "layout": "IPY_MODEL_559eb999d3a54144ac8ba4c4499fc601"
          }
        },
        "b923f13111744018a40ceb9cde4cabbc": {
          "model_module": "@jupyter-widgets/controls",
          "model_name": "HTMLModel",
          "model_module_version": "1.5.0",
          "state": {
            "_dom_classes": [],
            "_model_module": "@jupyter-widgets/controls",
            "_model_module_version": "1.5.0",
            "_model_name": "HTMLModel",
            "_view_count": null,
            "_view_module": "@jupyter-widgets/controls",
            "_view_module_version": "1.5.0",
            "_view_name": "HTMLView",
            "description": "",
            "description_tooltip": null,
            "layout": "IPY_MODEL_8438551d444040fe976e333678a117b5",
            "placeholder": "​",
            "style": "IPY_MODEL_8330437268ca416da49f1179c71f8534",
            "value": "tokenizer.json: 100%"
          }
        },
        "79a22baf72eb48e2b5968949b06a9c7b": {
          "model_module": "@jupyter-widgets/controls",
          "model_name": "FloatProgressModel",
          "model_module_version": "1.5.0",
          "state": {
            "_dom_classes": [],
            "_model_module": "@jupyter-widgets/controls",
            "_model_module_version": "1.5.0",
            "_model_name": "FloatProgressModel",
            "_view_count": null,
            "_view_module": "@jupyter-widgets/controls",
            "_view_module_version": "1.5.0",
            "_view_name": "ProgressView",
            "bar_style": "success",
            "description": "",
            "description_tooltip": null,
            "layout": "IPY_MODEL_a3b5d540926d466388636d3fee81582f",
            "max": 466062,
            "min": 0,
            "orientation": "horizontal",
            "style": "IPY_MODEL_dcac02b404e64fb78fa5d61437cee636",
            "value": 466062
          }
        },
        "dcf4bc6e80cc4ec188be9595636b7aa8": {
          "model_module": "@jupyter-widgets/controls",
          "model_name": "HTMLModel",
          "model_module_version": "1.5.0",
          "state": {
            "_dom_classes": [],
            "_model_module": "@jupyter-widgets/controls",
            "_model_module_version": "1.5.0",
            "_model_name": "HTMLModel",
            "_view_count": null,
            "_view_module": "@jupyter-widgets/controls",
            "_view_module_version": "1.5.0",
            "_view_name": "HTMLView",
            "description": "",
            "description_tooltip": null,
            "layout": "IPY_MODEL_1e3f5d80c8da4baa89bbcc44d7468730",
            "placeholder": "​",
            "style": "IPY_MODEL_18897ef8e8b34a0e9c2b14d54f3d9ab8",
            "value": " 466k/466k [00:00&lt;00:00, 6.32MB/s]"
          }
        },
        "559eb999d3a54144ac8ba4c4499fc601": {
          "model_module": "@jupyter-widgets/base",
          "model_name": "LayoutModel",
          "model_module_version": "1.2.0",
          "state": {
            "_model_module": "@jupyter-widgets/base",
            "_model_module_version": "1.2.0",
            "_model_name": "LayoutModel",
            "_view_count": null,
            "_view_module": "@jupyter-widgets/base",
            "_view_module_version": "1.2.0",
            "_view_name": "LayoutView",
            "align_content": null,
            "align_items": null,
            "align_self": null,
            "border": null,
            "bottom": null,
            "display": null,
            "flex": null,
            "flex_flow": null,
            "grid_area": null,
            "grid_auto_columns": null,
            "grid_auto_flow": null,
            "grid_auto_rows": null,
            "grid_column": null,
            "grid_gap": null,
            "grid_row": null,
            "grid_template_areas": null,
            "grid_template_columns": null,
            "grid_template_rows": null,
            "height": null,
            "justify_content": null,
            "justify_items": null,
            "left": null,
            "margin": null,
            "max_height": null,
            "max_width": null,
            "min_height": null,
            "min_width": null,
            "object_fit": null,
            "object_position": null,
            "order": null,
            "overflow": null,
            "overflow_x": null,
            "overflow_y": null,
            "padding": null,
            "right": null,
            "top": null,
            "visibility": null,
            "width": null
          }
        },
        "8438551d444040fe976e333678a117b5": {
          "model_module": "@jupyter-widgets/base",
          "model_name": "LayoutModel",
          "model_module_version": "1.2.0",
          "state": {
            "_model_module": "@jupyter-widgets/base",
            "_model_module_version": "1.2.0",
            "_model_name": "LayoutModel",
            "_view_count": null,
            "_view_module": "@jupyter-widgets/base",
            "_view_module_version": "1.2.0",
            "_view_name": "LayoutView",
            "align_content": null,
            "align_items": null,
            "align_self": null,
            "border": null,
            "bottom": null,
            "display": null,
            "flex": null,
            "flex_flow": null,
            "grid_area": null,
            "grid_auto_columns": null,
            "grid_auto_flow": null,
            "grid_auto_rows": null,
            "grid_column": null,
            "grid_gap": null,
            "grid_row": null,
            "grid_template_areas": null,
            "grid_template_columns": null,
            "grid_template_rows": null,
            "height": null,
            "justify_content": null,
            "justify_items": null,
            "left": null,
            "margin": null,
            "max_height": null,
            "max_width": null,
            "min_height": null,
            "min_width": null,
            "object_fit": null,
            "object_position": null,
            "order": null,
            "overflow": null,
            "overflow_x": null,
            "overflow_y": null,
            "padding": null,
            "right": null,
            "top": null,
            "visibility": null,
            "width": null
          }
        },
        "8330437268ca416da49f1179c71f8534": {
          "model_module": "@jupyter-widgets/controls",
          "model_name": "DescriptionStyleModel",
          "model_module_version": "1.5.0",
          "state": {
            "_model_module": "@jupyter-widgets/controls",
            "_model_module_version": "1.5.0",
            "_model_name": "DescriptionStyleModel",
            "_view_count": null,
            "_view_module": "@jupyter-widgets/base",
            "_view_module_version": "1.2.0",
            "_view_name": "StyleView",
            "description_width": ""
          }
        },
        "a3b5d540926d466388636d3fee81582f": {
          "model_module": "@jupyter-widgets/base",
          "model_name": "LayoutModel",
          "model_module_version": "1.2.0",
          "state": {
            "_model_module": "@jupyter-widgets/base",
            "_model_module_version": "1.2.0",
            "_model_name": "LayoutModel",
            "_view_count": null,
            "_view_module": "@jupyter-widgets/base",
            "_view_module_version": "1.2.0",
            "_view_name": "LayoutView",
            "align_content": null,
            "align_items": null,
            "align_self": null,
            "border": null,
            "bottom": null,
            "display": null,
            "flex": null,
            "flex_flow": null,
            "grid_area": null,
            "grid_auto_columns": null,
            "grid_auto_flow": null,
            "grid_auto_rows": null,
            "grid_column": null,
            "grid_gap": null,
            "grid_row": null,
            "grid_template_areas": null,
            "grid_template_columns": null,
            "grid_template_rows": null,
            "height": null,
            "justify_content": null,
            "justify_items": null,
            "left": null,
            "margin": null,
            "max_height": null,
            "max_width": null,
            "min_height": null,
            "min_width": null,
            "object_fit": null,
            "object_position": null,
            "order": null,
            "overflow": null,
            "overflow_x": null,
            "overflow_y": null,
            "padding": null,
            "right": null,
            "top": null,
            "visibility": null,
            "width": null
          }
        },
        "dcac02b404e64fb78fa5d61437cee636": {
          "model_module": "@jupyter-widgets/controls",
          "model_name": "ProgressStyleModel",
          "model_module_version": "1.5.0",
          "state": {
            "_model_module": "@jupyter-widgets/controls",
            "_model_module_version": "1.5.0",
            "_model_name": "ProgressStyleModel",
            "_view_count": null,
            "_view_module": "@jupyter-widgets/base",
            "_view_module_version": "1.2.0",
            "_view_name": "StyleView",
            "bar_color": null,
            "description_width": ""
          }
        },
        "1e3f5d80c8da4baa89bbcc44d7468730": {
          "model_module": "@jupyter-widgets/base",
          "model_name": "LayoutModel",
          "model_module_version": "1.2.0",
          "state": {
            "_model_module": "@jupyter-widgets/base",
            "_model_module_version": "1.2.0",
            "_model_name": "LayoutModel",
            "_view_count": null,
            "_view_module": "@jupyter-widgets/base",
            "_view_module_version": "1.2.0",
            "_view_name": "LayoutView",
            "align_content": null,
            "align_items": null,
            "align_self": null,
            "border": null,
            "bottom": null,
            "display": null,
            "flex": null,
            "flex_flow": null,
            "grid_area": null,
            "grid_auto_columns": null,
            "grid_auto_flow": null,
            "grid_auto_rows": null,
            "grid_column": null,
            "grid_gap": null,
            "grid_row": null,
            "grid_template_areas": null,
            "grid_template_columns": null,
            "grid_template_rows": null,
            "height": null,
            "justify_content": null,
            "justify_items": null,
            "left": null,
            "margin": null,
            "max_height": null,
            "max_width": null,
            "min_height": null,
            "min_width": null,
            "object_fit": null,
            "object_position": null,
            "order": null,
            "overflow": null,
            "overflow_x": null,
            "overflow_y": null,
            "padding": null,
            "right": null,
            "top": null,
            "visibility": null,
            "width": null
          }
        },
        "18897ef8e8b34a0e9c2b14d54f3d9ab8": {
          "model_module": "@jupyter-widgets/controls",
          "model_name": "DescriptionStyleModel",
          "model_module_version": "1.5.0",
          "state": {
            "_model_module": "@jupyter-widgets/controls",
            "_model_module_version": "1.5.0",
            "_model_name": "DescriptionStyleModel",
            "_view_count": null,
            "_view_module": "@jupyter-widgets/base",
            "_view_module_version": "1.2.0",
            "_view_name": "StyleView",
            "description_width": ""
          }
        },
        "7c096bdda17c44a5b88095fed7924622": {
          "model_module": "@jupyter-widgets/controls",
          "model_name": "HBoxModel",
          "model_module_version": "1.5.0",
          "state": {
            "_dom_classes": [],
            "_model_module": "@jupyter-widgets/controls",
            "_model_module_version": "1.5.0",
            "_model_name": "HBoxModel",
            "_view_count": null,
            "_view_module": "@jupyter-widgets/controls",
            "_view_module_version": "1.5.0",
            "_view_name": "HBoxView",
            "box_style": "",
            "children": [
              "IPY_MODEL_0918f37e231645ee8e88c75c6dc8a868",
              "IPY_MODEL_4f84662cef334b05b1d761a58988d058",
              "IPY_MODEL_ed491586b67345d8add2451c974ad6f2"
            ],
            "layout": "IPY_MODEL_9c90f527c7b84fb48982b8b28571a137"
          }
        },
        "0918f37e231645ee8e88c75c6dc8a868": {
          "model_module": "@jupyter-widgets/controls",
          "model_name": "HTMLModel",
          "model_module_version": "1.5.0",
          "state": {
            "_dom_classes": [],
            "_model_module": "@jupyter-widgets/controls",
            "_model_module_version": "1.5.0",
            "_model_name": "HTMLModel",
            "_view_count": null,
            "_view_module": "@jupyter-widgets/controls",
            "_view_module_version": "1.5.0",
            "_view_name": "HTMLView",
            "description": "",
            "description_tooltip": null,
            "layout": "IPY_MODEL_304fbed8ce3c46b78d909b30210733e9",
            "placeholder": "​",
            "style": "IPY_MODEL_e271cf5126cb4758b50b1afd363088be",
            "value": "config.json: 100%"
          }
        },
        "4f84662cef334b05b1d761a58988d058": {
          "model_module": "@jupyter-widgets/controls",
          "model_name": "FloatProgressModel",
          "model_module_version": "1.5.0",
          "state": {
            "_dom_classes": [],
            "_model_module": "@jupyter-widgets/controls",
            "_model_module_version": "1.5.0",
            "_model_name": "FloatProgressModel",
            "_view_count": null,
            "_view_module": "@jupyter-widgets/controls",
            "_view_module_version": "1.5.0",
            "_view_name": "ProgressView",
            "bar_style": "success",
            "description": "",
            "description_tooltip": null,
            "layout": "IPY_MODEL_e69bda4707734493a4bc1bdbe14c5ee2",
            "max": 483,
            "min": 0,
            "orientation": "horizontal",
            "style": "IPY_MODEL_3ba03676a6f2411ab7868680347449ac",
            "value": 483
          }
        },
        "ed491586b67345d8add2451c974ad6f2": {
          "model_module": "@jupyter-widgets/controls",
          "model_name": "HTMLModel",
          "model_module_version": "1.5.0",
          "state": {
            "_dom_classes": [],
            "_model_module": "@jupyter-widgets/controls",
            "_model_module_version": "1.5.0",
            "_model_name": "HTMLModel",
            "_view_count": null,
            "_view_module": "@jupyter-widgets/controls",
            "_view_module_version": "1.5.0",
            "_view_name": "HTMLView",
            "description": "",
            "description_tooltip": null,
            "layout": "IPY_MODEL_1cfec6b73c6c403788cd3e9380071e0c",
            "placeholder": "​",
            "style": "IPY_MODEL_4a410a6bf08441978cb0f78afefb9583",
            "value": " 483/483 [00:00&lt;00:00, 46.1kB/s]"
          }
        },
        "9c90f527c7b84fb48982b8b28571a137": {
          "model_module": "@jupyter-widgets/base",
          "model_name": "LayoutModel",
          "model_module_version": "1.2.0",
          "state": {
            "_model_module": "@jupyter-widgets/base",
            "_model_module_version": "1.2.0",
            "_model_name": "LayoutModel",
            "_view_count": null,
            "_view_module": "@jupyter-widgets/base",
            "_view_module_version": "1.2.0",
            "_view_name": "LayoutView",
            "align_content": null,
            "align_items": null,
            "align_self": null,
            "border": null,
            "bottom": null,
            "display": null,
            "flex": null,
            "flex_flow": null,
            "grid_area": null,
            "grid_auto_columns": null,
            "grid_auto_flow": null,
            "grid_auto_rows": null,
            "grid_column": null,
            "grid_gap": null,
            "grid_row": null,
            "grid_template_areas": null,
            "grid_template_columns": null,
            "grid_template_rows": null,
            "height": null,
            "justify_content": null,
            "justify_items": null,
            "left": null,
            "margin": null,
            "max_height": null,
            "max_width": null,
            "min_height": null,
            "min_width": null,
            "object_fit": null,
            "object_position": null,
            "order": null,
            "overflow": null,
            "overflow_x": null,
            "overflow_y": null,
            "padding": null,
            "right": null,
            "top": null,
            "visibility": null,
            "width": null
          }
        },
        "304fbed8ce3c46b78d909b30210733e9": {
          "model_module": "@jupyter-widgets/base",
          "model_name": "LayoutModel",
          "model_module_version": "1.2.0",
          "state": {
            "_model_module": "@jupyter-widgets/base",
            "_model_module_version": "1.2.0",
            "_model_name": "LayoutModel",
            "_view_count": null,
            "_view_module": "@jupyter-widgets/base",
            "_view_module_version": "1.2.0",
            "_view_name": "LayoutView",
            "align_content": null,
            "align_items": null,
            "align_self": null,
            "border": null,
            "bottom": null,
            "display": null,
            "flex": null,
            "flex_flow": null,
            "grid_area": null,
            "grid_auto_columns": null,
            "grid_auto_flow": null,
            "grid_auto_rows": null,
            "grid_column": null,
            "grid_gap": null,
            "grid_row": null,
            "grid_template_areas": null,
            "grid_template_columns": null,
            "grid_template_rows": null,
            "height": null,
            "justify_content": null,
            "justify_items": null,
            "left": null,
            "margin": null,
            "max_height": null,
            "max_width": null,
            "min_height": null,
            "min_width": null,
            "object_fit": null,
            "object_position": null,
            "order": null,
            "overflow": null,
            "overflow_x": null,
            "overflow_y": null,
            "padding": null,
            "right": null,
            "top": null,
            "visibility": null,
            "width": null
          }
        },
        "e271cf5126cb4758b50b1afd363088be": {
          "model_module": "@jupyter-widgets/controls",
          "model_name": "DescriptionStyleModel",
          "model_module_version": "1.5.0",
          "state": {
            "_model_module": "@jupyter-widgets/controls",
            "_model_module_version": "1.5.0",
            "_model_name": "DescriptionStyleModel",
            "_view_count": null,
            "_view_module": "@jupyter-widgets/base",
            "_view_module_version": "1.2.0",
            "_view_name": "StyleView",
            "description_width": ""
          }
        },
        "e69bda4707734493a4bc1bdbe14c5ee2": {
          "model_module": "@jupyter-widgets/base",
          "model_name": "LayoutModel",
          "model_module_version": "1.2.0",
          "state": {
            "_model_module": "@jupyter-widgets/base",
            "_model_module_version": "1.2.0",
            "_model_name": "LayoutModel",
            "_view_count": null,
            "_view_module": "@jupyter-widgets/base",
            "_view_module_version": "1.2.0",
            "_view_name": "LayoutView",
            "align_content": null,
            "align_items": null,
            "align_self": null,
            "border": null,
            "bottom": null,
            "display": null,
            "flex": null,
            "flex_flow": null,
            "grid_area": null,
            "grid_auto_columns": null,
            "grid_auto_flow": null,
            "grid_auto_rows": null,
            "grid_column": null,
            "grid_gap": null,
            "grid_row": null,
            "grid_template_areas": null,
            "grid_template_columns": null,
            "grid_template_rows": null,
            "height": null,
            "justify_content": null,
            "justify_items": null,
            "left": null,
            "margin": null,
            "max_height": null,
            "max_width": null,
            "min_height": null,
            "min_width": null,
            "object_fit": null,
            "object_position": null,
            "order": null,
            "overflow": null,
            "overflow_x": null,
            "overflow_y": null,
            "padding": null,
            "right": null,
            "top": null,
            "visibility": null,
            "width": null
          }
        },
        "3ba03676a6f2411ab7868680347449ac": {
          "model_module": "@jupyter-widgets/controls",
          "model_name": "ProgressStyleModel",
          "model_module_version": "1.5.0",
          "state": {
            "_model_module": "@jupyter-widgets/controls",
            "_model_module_version": "1.5.0",
            "_model_name": "ProgressStyleModel",
            "_view_count": null,
            "_view_module": "@jupyter-widgets/base",
            "_view_module_version": "1.2.0",
            "_view_name": "StyleView",
            "bar_color": null,
            "description_width": ""
          }
        },
        "1cfec6b73c6c403788cd3e9380071e0c": {
          "model_module": "@jupyter-widgets/base",
          "model_name": "LayoutModel",
          "model_module_version": "1.2.0",
          "state": {
            "_model_module": "@jupyter-widgets/base",
            "_model_module_version": "1.2.0",
            "_model_name": "LayoutModel",
            "_view_count": null,
            "_view_module": "@jupyter-widgets/base",
            "_view_module_version": "1.2.0",
            "_view_name": "LayoutView",
            "align_content": null,
            "align_items": null,
            "align_self": null,
            "border": null,
            "bottom": null,
            "display": null,
            "flex": null,
            "flex_flow": null,
            "grid_area": null,
            "grid_auto_columns": null,
            "grid_auto_flow": null,
            "grid_auto_rows": null,
            "grid_column": null,
            "grid_gap": null,
            "grid_row": null,
            "grid_template_areas": null,
            "grid_template_columns": null,
            "grid_template_rows": null,
            "height": null,
            "justify_content": null,
            "justify_items": null,
            "left": null,
            "margin": null,
            "max_height": null,
            "max_width": null,
            "min_height": null,
            "min_width": null,
            "object_fit": null,
            "object_position": null,
            "order": null,
            "overflow": null,
            "overflow_x": null,
            "overflow_y": null,
            "padding": null,
            "right": null,
            "top": null,
            "visibility": null,
            "width": null
          }
        },
        "4a410a6bf08441978cb0f78afefb9583": {
          "model_module": "@jupyter-widgets/controls",
          "model_name": "DescriptionStyleModel",
          "model_module_version": "1.5.0",
          "state": {
            "_model_module": "@jupyter-widgets/controls",
            "_model_module_version": "1.5.0",
            "_model_name": "DescriptionStyleModel",
            "_view_count": null,
            "_view_module": "@jupyter-widgets/base",
            "_view_module_version": "1.2.0",
            "_view_name": "StyleView",
            "description_width": ""
          }
        },
        "09370aec89f3472b8ea5977077a880c2": {
          "model_module": "@jupyter-widgets/controls",
          "model_name": "HBoxModel",
          "model_module_version": "1.5.0",
          "state": {
            "_dom_classes": [],
            "_model_module": "@jupyter-widgets/controls",
            "_model_module_version": "1.5.0",
            "_model_name": "HBoxModel",
            "_view_count": null,
            "_view_module": "@jupyter-widgets/controls",
            "_view_module_version": "1.5.0",
            "_view_name": "HBoxView",
            "box_style": "",
            "children": [
              "IPY_MODEL_b963edb588914462b6afc54ca47ddbc6",
              "IPY_MODEL_bd5454778fd4470ea236d19407e0ca16",
              "IPY_MODEL_d6b792cc42464f5aba2cfb43960b0796"
            ],
            "layout": "IPY_MODEL_653566fa70f048d1b46b02fac520481d"
          }
        },
        "b963edb588914462b6afc54ca47ddbc6": {
          "model_module": "@jupyter-widgets/controls",
          "model_name": "HTMLModel",
          "model_module_version": "1.5.0",
          "state": {
            "_dom_classes": [],
            "_model_module": "@jupyter-widgets/controls",
            "_model_module_version": "1.5.0",
            "_model_name": "HTMLModel",
            "_view_count": null,
            "_view_module": "@jupyter-widgets/controls",
            "_view_module_version": "1.5.0",
            "_view_name": "HTMLView",
            "description": "",
            "description_tooltip": null,
            "layout": "IPY_MODEL_4a28784e32444ab28aee3371add71f8e",
            "placeholder": "​",
            "style": "IPY_MODEL_498c2e4b68d242609b0c0336516e482b",
            "value": "model.safetensors: 100%"
          }
        },
        "bd5454778fd4470ea236d19407e0ca16": {
          "model_module": "@jupyter-widgets/controls",
          "model_name": "FloatProgressModel",
          "model_module_version": "1.5.0",
          "state": {
            "_dom_classes": [],
            "_model_module": "@jupyter-widgets/controls",
            "_model_module_version": "1.5.0",
            "_model_name": "FloatProgressModel",
            "_view_count": null,
            "_view_module": "@jupyter-widgets/controls",
            "_view_module_version": "1.5.0",
            "_view_name": "ProgressView",
            "bar_style": "success",
            "description": "",
            "description_tooltip": null,
            "layout": "IPY_MODEL_82f125d63fe245fe8f663b242f039f0a",
            "max": 267954768,
            "min": 0,
            "orientation": "horizontal",
            "style": "IPY_MODEL_dd3602a2073e4bbfae5bc5ff428ab01e",
            "value": 267954768
          }
        },
        "d6b792cc42464f5aba2cfb43960b0796": {
          "model_module": "@jupyter-widgets/controls",
          "model_name": "HTMLModel",
          "model_module_version": "1.5.0",
          "state": {
            "_dom_classes": [],
            "_model_module": "@jupyter-widgets/controls",
            "_model_module_version": "1.5.0",
            "_model_name": "HTMLModel",
            "_view_count": null,
            "_view_module": "@jupyter-widgets/controls",
            "_view_module_version": "1.5.0",
            "_view_name": "HTMLView",
            "description": "",
            "description_tooltip": null,
            "layout": "IPY_MODEL_31a6c42d079540e79bd452efa18a8647",
            "placeholder": "​",
            "style": "IPY_MODEL_0fe247749f26498e9551f82acca9d990",
            "value": " 268M/268M [00:01&lt;00:00, 256MB/s]"
          }
        },
        "653566fa70f048d1b46b02fac520481d": {
          "model_module": "@jupyter-widgets/base",
          "model_name": "LayoutModel",
          "model_module_version": "1.2.0",
          "state": {
            "_model_module": "@jupyter-widgets/base",
            "_model_module_version": "1.2.0",
            "_model_name": "LayoutModel",
            "_view_count": null,
            "_view_module": "@jupyter-widgets/base",
            "_view_module_version": "1.2.0",
            "_view_name": "LayoutView",
            "align_content": null,
            "align_items": null,
            "align_self": null,
            "border": null,
            "bottom": null,
            "display": null,
            "flex": null,
            "flex_flow": null,
            "grid_area": null,
            "grid_auto_columns": null,
            "grid_auto_flow": null,
            "grid_auto_rows": null,
            "grid_column": null,
            "grid_gap": null,
            "grid_row": null,
            "grid_template_areas": null,
            "grid_template_columns": null,
            "grid_template_rows": null,
            "height": null,
            "justify_content": null,
            "justify_items": null,
            "left": null,
            "margin": null,
            "max_height": null,
            "max_width": null,
            "min_height": null,
            "min_width": null,
            "object_fit": null,
            "object_position": null,
            "order": null,
            "overflow": null,
            "overflow_x": null,
            "overflow_y": null,
            "padding": null,
            "right": null,
            "top": null,
            "visibility": null,
            "width": null
          }
        },
        "4a28784e32444ab28aee3371add71f8e": {
          "model_module": "@jupyter-widgets/base",
          "model_name": "LayoutModel",
          "model_module_version": "1.2.0",
          "state": {
            "_model_module": "@jupyter-widgets/base",
            "_model_module_version": "1.2.0",
            "_model_name": "LayoutModel",
            "_view_count": null,
            "_view_module": "@jupyter-widgets/base",
            "_view_module_version": "1.2.0",
            "_view_name": "LayoutView",
            "align_content": null,
            "align_items": null,
            "align_self": null,
            "border": null,
            "bottom": null,
            "display": null,
            "flex": null,
            "flex_flow": null,
            "grid_area": null,
            "grid_auto_columns": null,
            "grid_auto_flow": null,
            "grid_auto_rows": null,
            "grid_column": null,
            "grid_gap": null,
            "grid_row": null,
            "grid_template_areas": null,
            "grid_template_columns": null,
            "grid_template_rows": null,
            "height": null,
            "justify_content": null,
            "justify_items": null,
            "left": null,
            "margin": null,
            "max_height": null,
            "max_width": null,
            "min_height": null,
            "min_width": null,
            "object_fit": null,
            "object_position": null,
            "order": null,
            "overflow": null,
            "overflow_x": null,
            "overflow_y": null,
            "padding": null,
            "right": null,
            "top": null,
            "visibility": null,
            "width": null
          }
        },
        "498c2e4b68d242609b0c0336516e482b": {
          "model_module": "@jupyter-widgets/controls",
          "model_name": "DescriptionStyleModel",
          "model_module_version": "1.5.0",
          "state": {
            "_model_module": "@jupyter-widgets/controls",
            "_model_module_version": "1.5.0",
            "_model_name": "DescriptionStyleModel",
            "_view_count": null,
            "_view_module": "@jupyter-widgets/base",
            "_view_module_version": "1.2.0",
            "_view_name": "StyleView",
            "description_width": ""
          }
        },
        "82f125d63fe245fe8f663b242f039f0a": {
          "model_module": "@jupyter-widgets/base",
          "model_name": "LayoutModel",
          "model_module_version": "1.2.0",
          "state": {
            "_model_module": "@jupyter-widgets/base",
            "_model_module_version": "1.2.0",
            "_model_name": "LayoutModel",
            "_view_count": null,
            "_view_module": "@jupyter-widgets/base",
            "_view_module_version": "1.2.0",
            "_view_name": "LayoutView",
            "align_content": null,
            "align_items": null,
            "align_self": null,
            "border": null,
            "bottom": null,
            "display": null,
            "flex": null,
            "flex_flow": null,
            "grid_area": null,
            "grid_auto_columns": null,
            "grid_auto_flow": null,
            "grid_auto_rows": null,
            "grid_column": null,
            "grid_gap": null,
            "grid_row": null,
            "grid_template_areas": null,
            "grid_template_columns": null,
            "grid_template_rows": null,
            "height": null,
            "justify_content": null,
            "justify_items": null,
            "left": null,
            "margin": null,
            "max_height": null,
            "max_width": null,
            "min_height": null,
            "min_width": null,
            "object_fit": null,
            "object_position": null,
            "order": null,
            "overflow": null,
            "overflow_x": null,
            "overflow_y": null,
            "padding": null,
            "right": null,
            "top": null,
            "visibility": null,
            "width": null
          }
        },
        "dd3602a2073e4bbfae5bc5ff428ab01e": {
          "model_module": "@jupyter-widgets/controls",
          "model_name": "ProgressStyleModel",
          "model_module_version": "1.5.0",
          "state": {
            "_model_module": "@jupyter-widgets/controls",
            "_model_module_version": "1.5.0",
            "_model_name": "ProgressStyleModel",
            "_view_count": null,
            "_view_module": "@jupyter-widgets/base",
            "_view_module_version": "1.2.0",
            "_view_name": "StyleView",
            "bar_color": null,
            "description_width": ""
          }
        },
        "31a6c42d079540e79bd452efa18a8647": {
          "model_module": "@jupyter-widgets/base",
          "model_name": "LayoutModel",
          "model_module_version": "1.2.0",
          "state": {
            "_model_module": "@jupyter-widgets/base",
            "_model_module_version": "1.2.0",
            "_model_name": "LayoutModel",
            "_view_count": null,
            "_view_module": "@jupyter-widgets/base",
            "_view_module_version": "1.2.0",
            "_view_name": "LayoutView",
            "align_content": null,
            "align_items": null,
            "align_self": null,
            "border": null,
            "bottom": null,
            "display": null,
            "flex": null,
            "flex_flow": null,
            "grid_area": null,
            "grid_auto_columns": null,
            "grid_auto_flow": null,
            "grid_auto_rows": null,
            "grid_column": null,
            "grid_gap": null,
            "grid_row": null,
            "grid_template_areas": null,
            "grid_template_columns": null,
            "grid_template_rows": null,
            "height": null,
            "justify_content": null,
            "justify_items": null,
            "left": null,
            "margin": null,
            "max_height": null,
            "max_width": null,
            "min_height": null,
            "min_width": null,
            "object_fit": null,
            "object_position": null,
            "order": null,
            "overflow": null,
            "overflow_x": null,
            "overflow_y": null,
            "padding": null,
            "right": null,
            "top": null,
            "visibility": null,
            "width": null
          }
        },
        "0fe247749f26498e9551f82acca9d990": {
          "model_module": "@jupyter-widgets/controls",
          "model_name": "DescriptionStyleModel",
          "model_module_version": "1.5.0",
          "state": {
            "_model_module": "@jupyter-widgets/controls",
            "_model_module_version": "1.5.0",
            "_model_name": "DescriptionStyleModel",
            "_view_count": null,
            "_view_module": "@jupyter-widgets/base",
            "_view_module_version": "1.2.0",
            "_view_name": "StyleView",
            "description_width": ""
          }
        }
      }
    }
  },
  "nbformat": 4,
  "nbformat_minor": 0
}