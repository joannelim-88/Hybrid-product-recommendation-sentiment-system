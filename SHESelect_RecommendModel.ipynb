{
  "cells": [
    {
      "cell_type": "markdown",
      "metadata": {
        "id": "EJTj3GkookKP"
      },
      "source": [
        "FYP - SHESelect Hybrid Recommendation Model using Collaborative Filtering & Matrix Factorisation algorithm (LightFM, SVD)"
      ]
    },
    {
      "cell_type": "code",
      "execution_count": null,
      "metadata": {
        "colab": {
          "base_uri": "https://localhost:8080/"
        },
        "id": "mrEncxOHokKS",
        "outputId": "a6d56cbd-4534-4ecd-c903-05a646ddd8bb"
      },
      "outputs": [
        {
          "output_type": "stream",
          "name": "stdout",
          "text": [
            "Requirement already satisfied: numpy==1.24.4 in /usr/local/lib/python3.11/dist-packages (1.24.4)\n",
            "Collecting lightfm\n",
            "  Downloading lightfm-1.17.tar.gz (316 kB)\n",
            "\u001b[2K     \u001b[90m━━━━━━━━━━━━━━━━━━━━━━━━━━━━━━━━━━━━━━\u001b[0m \u001b[32m316.4/316.4 kB\u001b[0m \u001b[31m56.4 MB/s\u001b[0m eta \u001b[36m0:00:00\u001b[0m\n",
            "\u001b[?25h  Preparing metadata (setup.py) ... \u001b[?25l\u001b[?25hdone\n",
            "Requirement already satisfied: scikit-learn in /usr/local/lib/python3.11/dist-packages (1.6.1)\n",
            "Requirement already satisfied: pandas in /usr/local/lib/python3.11/dist-packages (2.2.2)\n",
            "Collecting surprise\n",
            "  Downloading surprise-0.1-py2.py3-none-any.whl.metadata (327 bytes)\n",
            "Collecting scikit-surprise\n",
            "  Downloading scikit_surprise-1.1.4.tar.gz (154 kB)\n",
            "\u001b[2K     \u001b[90m━━━━━━━━━━━━━━━━━━━━━━━━━━━━━━━━━━━━━\u001b[0m \u001b[32m154.4/154.4 kB\u001b[0m \u001b[31m184.4 MB/s\u001b[0m eta \u001b[36m0:00:00\u001b[0m\n",
            "\u001b[?25h  Installing build dependencies ... \u001b[?25l\u001b[?25hdone\n",
            "  Getting requirements to build wheel ... \u001b[?25l\u001b[?25hdone\n",
            "  Preparing metadata (pyproject.toml) ... \u001b[?25l\u001b[?25hdone\n",
            "Requirement already satisfied: numpy in /usr/local/lib/python3.11/dist-packages (from lightfm) (1.24.4)\n",
            "Requirement already satisfied: scipy>=0.17.0 in /usr/local/lib/python3.11/dist-packages (from lightfm) (1.14.1)\n",
            "Requirement already satisfied: requests in /usr/local/lib/python3.11/dist-packages (from lightfm) (2.32.3)\n",
            "Requirement already satisfied: joblib>=1.2.0 in /usr/local/lib/python3.11/dist-packages (from scikit-learn) (1.4.2)\n",
            "Requirement already satisfied: threadpoolctl>=3.1.0 in /usr/local/lib/python3.11/dist-packages (from scikit-learn) (3.6.0)\n",
            "Requirement already satisfied: python-dateutil>=2.8.2 in /usr/local/lib/python3.11/dist-packages (from pandas) (2.8.2)\n",
            "Requirement already satisfied: pytz>=2020.1 in /usr/local/lib/python3.11/dist-packages (from pandas) (2025.2)\n",
            "Requirement already satisfied: tzdata>=2022.7 in /usr/local/lib/python3.11/dist-packages (from pandas) (2025.2)\n",
            "Requirement already satisfied: six>=1.5 in /usr/local/lib/python3.11/dist-packages (from python-dateutil>=2.8.2->pandas) (1.17.0)\n",
            "Requirement already satisfied: charset-normalizer<4,>=2 in /usr/local/lib/python3.11/dist-packages (from requests->lightfm) (3.4.1)\n",
            "Requirement already satisfied: idna<4,>=2.5 in /usr/local/lib/python3.11/dist-packages (from requests->lightfm) (3.10)\n",
            "Requirement already satisfied: urllib3<3,>=1.21.1 in /usr/local/lib/python3.11/dist-packages (from requests->lightfm) (2.3.0)\n",
            "Requirement already satisfied: certifi>=2017.4.17 in /usr/local/lib/python3.11/dist-packages (from requests->lightfm) (2025.1.31)\n",
            "Downloading surprise-0.1-py2.py3-none-any.whl (1.8 kB)\n",
            "Building wheels for collected packages: lightfm, scikit-surprise\n",
            "  Building wheel for lightfm (setup.py) ... \u001b[?25l\u001b[?25hdone\n",
            "  Created wheel for lightfm: filename=lightfm-1.17-cp311-cp311-linux_x86_64.whl size=831162 sha256=7ecf46e77018f1868382b3fc57bbdc61252e03525995062445af4d561a7af266\n",
            "  Stored in directory: /tmp/pip-ephem-wheel-cache-tga4mpg0/wheels/b9/0d/8a/0729d2e6e3ca2a898ba55201f905da7db3f838a33df5b3fcdd\n",
            "  Building wheel for scikit-surprise (pyproject.toml) ... \u001b[?25l\u001b[?25hdone\n",
            "  Created wheel for scikit-surprise: filename=scikit_surprise-1.1.4-cp311-cp311-linux_x86_64.whl size=2505213 sha256=bcad55dab84dd26576111dd4862ba41246e26e05ef25f5c0402e6b6f2eb88739\n",
            "  Stored in directory: /tmp/pip-ephem-wheel-cache-tga4mpg0/wheels/2a/8f/6e/7e2899163e2d85d8266daab4aa1cdabec7a6c56f83c015b5af\n",
            "Successfully built lightfm scikit-surprise\n",
            "Installing collected packages: scikit-surprise, surprise, lightfm\n",
            "Successfully installed lightfm-1.17 scikit-surprise-1.1.4 surprise-0.1\n"
          ]
        }
      ],
      "source": [
        "#install compatible numpy version and pandas version\n",
        "!pip install numpy==1.24.4\n",
        "\n",
        "#install all necessary libraries\n",
        "!pip install --no-cache-dir lightfm scikit-learn pandas surprise scikit-surprise\n"
      ]
    },
    {
      "cell_type": "code",
      "execution_count": null,
      "metadata": {
        "id": "qKtofCVbokKU"
      },
      "outputs": [],
      "source": [
        "# import all necessary libraries for model training\n",
        "# import scikit-learn and lightFM libraries\n",
        "import pandas as pd\n",
        "import numpy as np\n",
        "import re\n",
        "import spacy\n",
        "#LightFM model\n",
        "from lightfm import LightFM\n",
        "from scipy.sparse import csr_matrix\n",
        "from lightfm.evaluation import precision_at_k, recall_at_k, auc_score\n",
        "from lightfm.cross_validation import random_train_test_split\n",
        "#SVD model\n",
        "from surprise import Dataset, Reader, SVD\n",
        "from surprise.model_selection import train_test_split as surprise_train_test_split, GridSearchCV\n",
        "from surprise.accuracy import rmse\n",
        "#Evaluation library\n",
        "from sklearn.model_selection import train_test_split\n",
        "from sklearn.metrics import mean_squared_error, r2_score #Regression metrics\n",
        "from sklearn.metrics import roc_auc_score\n",
        "from sklearn.metrics import accuracy_score, classification_report, confusion_matrix #Classification metrics"
      ]
    },
    {
      "cell_type": "code",
      "execution_count": null,
      "metadata": {
        "colab": {
          "base_uri": "https://localhost:8080/"
        },
        "id": "gsRUNpwkokKV",
        "outputId": "014fd633-f1e5-448a-bec8-068e1e7ce882"
      },
      "outputs": [
        {
          "output_type": "stream",
          "name": "stdout",
          "text": [
            "  Customer-ID     ProductID  PurchaseQuantity            Categories  \\\n",
            "0  CUSTIDXX-1   PRODOXIID22                10      Meat and Seafood   \n",
            "1  CUSTIDXX-2   PRODOXIID42                 7          Frozen Foods   \n",
            "2  CUSTIDXX-3   PRODOXIID64                22  Snacks and Beverages   \n",
            "3  CUSTIDXX-5  PRODOXIID213                13        Toys and Games   \n",
            "4  CUSTIDXX-7  PRODOXIID288                21          Ethnic Foods   \n",
            "\n",
            "                    Products     CustomerName Gender  \n",
            "0                       Pork      Brian Weiss      F  \n",
            "1               Frozen Meals  Samantha Wagner      F  \n",
            "2                       Nuts       Karen Wise      F  \n",
            "3              Action Figure     Douglas Bond      F  \n",
            "4      Middle Eastern Hummus      Megan Clark      F  \n"
          ]
        }
      ],
      "source": [
        "#Load original data\n",
        "data = pd.read_csv('female_customer_transactions.csv', low_memory=False)\n",
        "print(data.head())"
      ]
    },
    {
      "cell_type": "code",
      "source": [
        "#FILTER OUT FEMALE CONSUMERS DATA\n",
        "salesdata = data[data.Gender == 'F']\n",
        "print(salesdata.head())"
      ],
      "metadata": {
        "colab": {
          "base_uri": "https://localhost:8080/"
        },
        "id": "pAwp-tC15NlP",
        "outputId": "871a15c4-7053-4e96-a4d0-f490c6efde3f"
      },
      "execution_count": null,
      "outputs": [
        {
          "output_type": "stream",
          "name": "stdout",
          "text": [
            "  Customer-ID     ProductID  PurchaseQuantity            Categories  \\\n",
            "0  CUSTIDXX-1   PRODOXIID22                10      Meat and Seafood   \n",
            "1  CUSTIDXX-2   PRODOXIID42                 7          Frozen Foods   \n",
            "2  CUSTIDXX-3   PRODOXIID64                22  Snacks and Beverages   \n",
            "3  CUSTIDXX-5  PRODOXIID213                13        Toys and Games   \n",
            "4  CUSTIDXX-7  PRODOXIID288                21          Ethnic Foods   \n",
            "\n",
            "                    Products     CustomerName Gender  \n",
            "0                       Pork      Brian Weiss      F  \n",
            "1               Frozen Meals  Samantha Wagner      F  \n",
            "2                       Nuts       Karen Wise      F  \n",
            "3              Action Figure     Douglas Bond      F  \n",
            "4      Middle Eastern Hummus      Megan Clark      F  \n"
          ]
        }
      ]
    },
    {
      "cell_type": "code",
      "source": [
        "#EXTRACT IMPORTANT COLUMNS SIGNIFICANTLY FOR TRAINING\n",
        "sales = salesdata[['Customer-ID','Products','Categories', 'PurchaseQuantity']] #Extracted customer id, products, categories, purchase quantity\n",
        "print(sales.head()) #print few first rows of the selected column"
      ],
      "metadata": {
        "colab": {
          "base_uri": "https://localhost:8080/"
        },
        "id": "pePGHY_h5qv-",
        "outputId": "4abd24a7-05a9-4d23-9533-e09e01827289"
      },
      "execution_count": null,
      "outputs": [
        {
          "output_type": "stream",
          "name": "stdout",
          "text": [
            "  Customer-ID                   Products            Categories  \\\n",
            "0  CUSTIDXX-1                       Pork      Meat and Seafood   \n",
            "1  CUSTIDXX-2               Frozen Meals          Frozen Foods   \n",
            "2  CUSTIDXX-3                       Nuts  Snacks and Beverages   \n",
            "3  CUSTIDXX-5              Action Figure        Toys and Games   \n",
            "4  CUSTIDXX-7      Middle Eastern Hummus          Ethnic Foods   \n",
            "\n",
            "   PurchaseQuantity  \n",
            "0                10  \n",
            "1                 7  \n",
            "2                22  \n",
            "3                13  \n",
            "4                21  \n"
          ]
        }
      ]
    },
    {
      "cell_type": "code",
      "source": [
        "#HANDLE MISSING VALUES AND DUPLICATES FOR SELECTED COLUMNS\n",
        "sales.dropna(inplace=True) #remove missing values\n",
        "sales.drop_duplicates(inplace=True) #remove duplicate values"
      ],
      "metadata": {
        "id": "CFkhAFX0ozuR",
        "colab": {
          "base_uri": "https://localhost:8080/"
        },
        "outputId": "d6b648a6-c606-4bb5-a174-1bdea4ec5106"
      },
      "execution_count": null,
      "outputs": [
        {
          "output_type": "stream",
          "name": "stderr",
          "text": [
            "<ipython-input-6-82ba93f29089>:2: SettingWithCopyWarning: \n",
            "A value is trying to be set on a copy of a slice from a DataFrame\n",
            "\n",
            "See the caveats in the documentation: https://pandas.pydata.org/pandas-docs/stable/user_guide/indexing.html#returning-a-view-versus-a-copy\n",
            "  sales.dropna(inplace=True) #remove missing values\n",
            "<ipython-input-6-82ba93f29089>:3: SettingWithCopyWarning: \n",
            "A value is trying to be set on a copy of a slice from a DataFrame\n",
            "\n",
            "See the caveats in the documentation: https://pandas.pydata.org/pandas-docs/stable/user_guide/indexing.html#returning-a-view-versus-a-copy\n",
            "  sales.drop_duplicates(inplace=True) #remove duplicate values\n"
          ]
        }
      ]
    },
    {
      "cell_type": "code",
      "source": [
        "#Preprocessing data on selected columns\n",
        "\n",
        "# Load spacy\n",
        "spacy_token = spacy.load(\"en_core_web_sm\", disable=[\"parser\", \"ner\"])\n",
        "\n",
        "# Preprocessing function\n",
        "def preprocess_text(text):\n",
        "    if pd.isna(text):  # Check missing values\n",
        "        return \" \"\n",
        "    text = text.lower()  # Convert to lowercase\n",
        "    text = re.sub(r'[^a-zA-Z\\s]', '', text)  # Remove special characters\n",
        "    text = re.sub(r'\\s+', ' ', text).strip()  # Remove extra spaces\n",
        "    return text\n",
        "\n",
        "# Apply preprocessing for Products and Categories column\n",
        "sales['Processed_Products'] = sales['Products'].apply(preprocess_text)\n",
        "sales['Processed_Categories'] = sales['Categories'].apply(preprocess_text)\n",
        "\n",
        "# Normalize numerical column\n",
        "sales['Normalized_PurchaseQuantity'] = (sales['PurchaseQuantity'] - sales['PurchaseQuantity'].min()) / (sales['PurchaseQuantity'].max() - sales['PurchaseQuantity'].min())\n",
        "\n",
        "# Display results\n",
        "sales[['Customer-ID', 'Processed_Products','Processed_Categories', 'Normalized_PurchaseQuantity']].head()\n",
        "\n"
      ],
      "metadata": {
        "id": "nc0T2ywn8_K5",
        "colab": {
          "base_uri": "https://localhost:8080/",
          "height": 414
        },
        "outputId": "2e195003-b88f-497d-f493-9e5d48b83b45"
      },
      "execution_count": null,
      "outputs": [
        {
          "output_type": "stream",
          "name": "stderr",
          "text": [
            "<ipython-input-7-643cc5c9c434>:16: SettingWithCopyWarning: \n",
            "A value is trying to be set on a copy of a slice from a DataFrame.\n",
            "Try using .loc[row_indexer,col_indexer] = value instead\n",
            "\n",
            "See the caveats in the documentation: https://pandas.pydata.org/pandas-docs/stable/user_guide/indexing.html#returning-a-view-versus-a-copy\n",
            "  sales['Processed_Products'] = sales['Products'].apply(preprocess_text)\n",
            "<ipython-input-7-643cc5c9c434>:17: SettingWithCopyWarning: \n",
            "A value is trying to be set on a copy of a slice from a DataFrame.\n",
            "Try using .loc[row_indexer,col_indexer] = value instead\n",
            "\n",
            "See the caveats in the documentation: https://pandas.pydata.org/pandas-docs/stable/user_guide/indexing.html#returning-a-view-versus-a-copy\n",
            "  sales['Processed_Categories'] = sales['Categories'].apply(preprocess_text)\n"
          ]
        },
        {
          "output_type": "execute_result",
          "data": {
            "text/plain": [
              "  Customer-ID     Processed_Products  Processed_Categories  \\\n",
              "0  CUSTIDXX-1                   pork      meat and seafood   \n",
              "1  CUSTIDXX-2           frozen meals          frozen foods   \n",
              "2  CUSTIDXX-3                   nuts  snacks and beverages   \n",
              "3  CUSTIDXX-5          action figure        toys and games   \n",
              "4  CUSTIDXX-7  middle eastern hummus          ethnic foods   \n",
              "\n",
              "   Normalized_PurchaseQuantity  \n",
              "0                     0.375000  \n",
              "1                     0.250000  \n",
              "2                     0.875000  \n",
              "3                     0.500000  \n",
              "4                     0.833333  "
            ],
            "text/html": [
              "\n",
              "  <div id=\"df-c642aa2a-4882-4424-b7a5-3930f65ed68c\" class=\"colab-df-container\">\n",
              "    <div>\n",
              "<style scoped>\n",
              "    .dataframe tbody tr th:only-of-type {\n",
              "        vertical-align: middle;\n",
              "    }\n",
              "\n",
              "    .dataframe tbody tr th {\n",
              "        vertical-align: top;\n",
              "    }\n",
              "\n",
              "    .dataframe thead th {\n",
              "        text-align: right;\n",
              "    }\n",
              "</style>\n",
              "<table border=\"1\" class=\"dataframe\">\n",
              "  <thead>\n",
              "    <tr style=\"text-align: right;\">\n",
              "      <th></th>\n",
              "      <th>Customer-ID</th>\n",
              "      <th>Processed_Products</th>\n",
              "      <th>Processed_Categories</th>\n",
              "      <th>Normalized_PurchaseQuantity</th>\n",
              "    </tr>\n",
              "  </thead>\n",
              "  <tbody>\n",
              "    <tr>\n",
              "      <th>0</th>\n",
              "      <td>CUSTIDXX-1</td>\n",
              "      <td>pork</td>\n",
              "      <td>meat and seafood</td>\n",
              "      <td>0.375000</td>\n",
              "    </tr>\n",
              "    <tr>\n",
              "      <th>1</th>\n",
              "      <td>CUSTIDXX-2</td>\n",
              "      <td>frozen meals</td>\n",
              "      <td>frozen foods</td>\n",
              "      <td>0.250000</td>\n",
              "    </tr>\n",
              "    <tr>\n",
              "      <th>2</th>\n",
              "      <td>CUSTIDXX-3</td>\n",
              "      <td>nuts</td>\n",
              "      <td>snacks and beverages</td>\n",
              "      <td>0.875000</td>\n",
              "    </tr>\n",
              "    <tr>\n",
              "      <th>3</th>\n",
              "      <td>CUSTIDXX-5</td>\n",
              "      <td>action figure</td>\n",
              "      <td>toys and games</td>\n",
              "      <td>0.500000</td>\n",
              "    </tr>\n",
              "    <tr>\n",
              "      <th>4</th>\n",
              "      <td>CUSTIDXX-7</td>\n",
              "      <td>middle eastern hummus</td>\n",
              "      <td>ethnic foods</td>\n",
              "      <td>0.833333</td>\n",
              "    </tr>\n",
              "  </tbody>\n",
              "</table>\n",
              "</div>\n",
              "    <div class=\"colab-df-buttons\">\n",
              "\n",
              "  <div class=\"colab-df-container\">\n",
              "    <button class=\"colab-df-convert\" onclick=\"convertToInteractive('df-c642aa2a-4882-4424-b7a5-3930f65ed68c')\"\n",
              "            title=\"Convert this dataframe to an interactive table.\"\n",
              "            style=\"display:none;\">\n",
              "\n",
              "  <svg xmlns=\"http://www.w3.org/2000/svg\" height=\"24px\" viewBox=\"0 -960 960 960\">\n",
              "    <path d=\"M120-120v-720h720v720H120Zm60-500h600v-160H180v160Zm220 220h160v-160H400v160Zm0 220h160v-160H400v160ZM180-400h160v-160H180v160Zm440 0h160v-160H620v160ZM180-180h160v-160H180v160Zm440 0h160v-160H620v160Z\"/>\n",
              "  </svg>\n",
              "    </button>\n",
              "\n",
              "  <style>\n",
              "    .colab-df-container {\n",
              "      display:flex;\n",
              "      gap: 12px;\n",
              "    }\n",
              "\n",
              "    .colab-df-convert {\n",
              "      background-color: #E8F0FE;\n",
              "      border: none;\n",
              "      border-radius: 50%;\n",
              "      cursor: pointer;\n",
              "      display: none;\n",
              "      fill: #1967D2;\n",
              "      height: 32px;\n",
              "      padding: 0 0 0 0;\n",
              "      width: 32px;\n",
              "    }\n",
              "\n",
              "    .colab-df-convert:hover {\n",
              "      background-color: #E2EBFA;\n",
              "      box-shadow: 0px 1px 2px rgba(60, 64, 67, 0.3), 0px 1px 3px 1px rgba(60, 64, 67, 0.15);\n",
              "      fill: #174EA6;\n",
              "    }\n",
              "\n",
              "    .colab-df-buttons div {\n",
              "      margin-bottom: 4px;\n",
              "    }\n",
              "\n",
              "    [theme=dark] .colab-df-convert {\n",
              "      background-color: #3B4455;\n",
              "      fill: #D2E3FC;\n",
              "    }\n",
              "\n",
              "    [theme=dark] .colab-df-convert:hover {\n",
              "      background-color: #434B5C;\n",
              "      box-shadow: 0px 1px 3px 1px rgba(0, 0, 0, 0.15);\n",
              "      filter: drop-shadow(0px 1px 2px rgba(0, 0, 0, 0.3));\n",
              "      fill: #FFFFFF;\n",
              "    }\n",
              "  </style>\n",
              "\n",
              "    <script>\n",
              "      const buttonEl =\n",
              "        document.querySelector('#df-c642aa2a-4882-4424-b7a5-3930f65ed68c button.colab-df-convert');\n",
              "      buttonEl.style.display =\n",
              "        google.colab.kernel.accessAllowed ? 'block' : 'none';\n",
              "\n",
              "      async function convertToInteractive(key) {\n",
              "        const element = document.querySelector('#df-c642aa2a-4882-4424-b7a5-3930f65ed68c');\n",
              "        const dataTable =\n",
              "          await google.colab.kernel.invokeFunction('convertToInteractive',\n",
              "                                                    [key], {});\n",
              "        if (!dataTable) return;\n",
              "\n",
              "        const docLinkHtml = 'Like what you see? Visit the ' +\n",
              "          '<a target=\"_blank\" href=https://colab.research.google.com/notebooks/data_table.ipynb>data table notebook</a>'\n",
              "          + ' to learn more about interactive tables.';\n",
              "        element.innerHTML = '';\n",
              "        dataTable['output_type'] = 'display_data';\n",
              "        await google.colab.output.renderOutput(dataTable, element);\n",
              "        const docLink = document.createElement('div');\n",
              "        docLink.innerHTML = docLinkHtml;\n",
              "        element.appendChild(docLink);\n",
              "      }\n",
              "    </script>\n",
              "  </div>\n",
              "\n",
              "\n",
              "<div id=\"df-c68fc43c-a0b1-4924-8463-c55bcc320d69\">\n",
              "  <button class=\"colab-df-quickchart\" onclick=\"quickchart('df-c68fc43c-a0b1-4924-8463-c55bcc320d69')\"\n",
              "            title=\"Suggest charts\"\n",
              "            style=\"display:none;\">\n",
              "\n",
              "<svg xmlns=\"http://www.w3.org/2000/svg\" height=\"24px\"viewBox=\"0 0 24 24\"\n",
              "     width=\"24px\">\n",
              "    <g>\n",
              "        <path d=\"M19 3H5c-1.1 0-2 .9-2 2v14c0 1.1.9 2 2 2h14c1.1 0 2-.9 2-2V5c0-1.1-.9-2-2-2zM9 17H7v-7h2v7zm4 0h-2V7h2v10zm4 0h-2v-4h2v4z\"/>\n",
              "    </g>\n",
              "</svg>\n",
              "  </button>\n",
              "\n",
              "<style>\n",
              "  .colab-df-quickchart {\n",
              "      --bg-color: #E8F0FE;\n",
              "      --fill-color: #1967D2;\n",
              "      --hover-bg-color: #E2EBFA;\n",
              "      --hover-fill-color: #174EA6;\n",
              "      --disabled-fill-color: #AAA;\n",
              "      --disabled-bg-color: #DDD;\n",
              "  }\n",
              "\n",
              "  [theme=dark] .colab-df-quickchart {\n",
              "      --bg-color: #3B4455;\n",
              "      --fill-color: #D2E3FC;\n",
              "      --hover-bg-color: #434B5C;\n",
              "      --hover-fill-color: #FFFFFF;\n",
              "      --disabled-bg-color: #3B4455;\n",
              "      --disabled-fill-color: #666;\n",
              "  }\n",
              "\n",
              "  .colab-df-quickchart {\n",
              "    background-color: var(--bg-color);\n",
              "    border: none;\n",
              "    border-radius: 50%;\n",
              "    cursor: pointer;\n",
              "    display: none;\n",
              "    fill: var(--fill-color);\n",
              "    height: 32px;\n",
              "    padding: 0;\n",
              "    width: 32px;\n",
              "  }\n",
              "\n",
              "  .colab-df-quickchart:hover {\n",
              "    background-color: var(--hover-bg-color);\n",
              "    box-shadow: 0 1px 2px rgba(60, 64, 67, 0.3), 0 1px 3px 1px rgba(60, 64, 67, 0.15);\n",
              "    fill: var(--button-hover-fill-color);\n",
              "  }\n",
              "\n",
              "  .colab-df-quickchart-complete:disabled,\n",
              "  .colab-df-quickchart-complete:disabled:hover {\n",
              "    background-color: var(--disabled-bg-color);\n",
              "    fill: var(--disabled-fill-color);\n",
              "    box-shadow: none;\n",
              "  }\n",
              "\n",
              "  .colab-df-spinner {\n",
              "    border: 2px solid var(--fill-color);\n",
              "    border-color: transparent;\n",
              "    border-bottom-color: var(--fill-color);\n",
              "    animation:\n",
              "      spin 1s steps(1) infinite;\n",
              "  }\n",
              "\n",
              "  @keyframes spin {\n",
              "    0% {\n",
              "      border-color: transparent;\n",
              "      border-bottom-color: var(--fill-color);\n",
              "      border-left-color: var(--fill-color);\n",
              "    }\n",
              "    20% {\n",
              "      border-color: transparent;\n",
              "      border-left-color: var(--fill-color);\n",
              "      border-top-color: var(--fill-color);\n",
              "    }\n",
              "    30% {\n",
              "      border-color: transparent;\n",
              "      border-left-color: var(--fill-color);\n",
              "      border-top-color: var(--fill-color);\n",
              "      border-right-color: var(--fill-color);\n",
              "    }\n",
              "    40% {\n",
              "      border-color: transparent;\n",
              "      border-right-color: var(--fill-color);\n",
              "      border-top-color: var(--fill-color);\n",
              "    }\n",
              "    60% {\n",
              "      border-color: transparent;\n",
              "      border-right-color: var(--fill-color);\n",
              "    }\n",
              "    80% {\n",
              "      border-color: transparent;\n",
              "      border-right-color: var(--fill-color);\n",
              "      border-bottom-color: var(--fill-color);\n",
              "    }\n",
              "    90% {\n",
              "      border-color: transparent;\n",
              "      border-bottom-color: var(--fill-color);\n",
              "    }\n",
              "  }\n",
              "</style>\n",
              "\n",
              "  <script>\n",
              "    async function quickchart(key) {\n",
              "      const quickchartButtonEl =\n",
              "        document.querySelector('#' + key + ' button');\n",
              "      quickchartButtonEl.disabled = true;  // To prevent multiple clicks.\n",
              "      quickchartButtonEl.classList.add('colab-df-spinner');\n",
              "      try {\n",
              "        const charts = await google.colab.kernel.invokeFunction(\n",
              "            'suggestCharts', [key], {});\n",
              "      } catch (error) {\n",
              "        console.error('Error during call to suggestCharts:', error);\n",
              "      }\n",
              "      quickchartButtonEl.classList.remove('colab-df-spinner');\n",
              "      quickchartButtonEl.classList.add('colab-df-quickchart-complete');\n",
              "    }\n",
              "    (() => {\n",
              "      let quickchartButtonEl =\n",
              "        document.querySelector('#df-c68fc43c-a0b1-4924-8463-c55bcc320d69 button');\n",
              "      quickchartButtonEl.style.display =\n",
              "        google.colab.kernel.accessAllowed ? 'block' : 'none';\n",
              "    })();\n",
              "  </script>\n",
              "</div>\n",
              "\n",
              "    </div>\n",
              "  </div>\n"
            ],
            "application/vnd.google.colaboratory.intrinsic+json": {
              "type": "dataframe",
              "summary": "{\n  \"name\": \"sales[['Customer-ID', 'Processed_Products','Processed_Categories', 'Normalized_PurchaseQuantity']]\",\n  \"rows\": 5,\n  \"fields\": [\n    {\n      \"column\": \"Customer-ID\",\n      \"properties\": {\n        \"dtype\": \"string\",\n        \"num_unique_values\": 5,\n        \"samples\": [\n          \"CUSTIDXX-2\",\n          \"CUSTIDXX-7\",\n          \"CUSTIDXX-3\"\n        ],\n        \"semantic_type\": \"\",\n        \"description\": \"\"\n      }\n    },\n    {\n      \"column\": \"Processed_Products\",\n      \"properties\": {\n        \"dtype\": \"string\",\n        \"num_unique_values\": 5,\n        \"samples\": [\n          \"frozen meals\",\n          \"middle eastern hummus\",\n          \"nuts\"\n        ],\n        \"semantic_type\": \"\",\n        \"description\": \"\"\n      }\n    },\n    {\n      \"column\": \"Processed_Categories\",\n      \"properties\": {\n        \"dtype\": \"string\",\n        \"num_unique_values\": 5,\n        \"samples\": [\n          \"frozen foods\",\n          \"ethnic foods\",\n          \"snacks and beverages\"\n        ],\n        \"semantic_type\": \"\",\n        \"description\": \"\"\n      }\n    },\n    {\n      \"column\": \"Normalized_PurchaseQuantity\",\n      \"properties\": {\n        \"dtype\": \"number\",\n        \"std\": 0.27732602153822894,\n        \"min\": 0.25,\n        \"max\": 0.875,\n        \"num_unique_values\": 5,\n        \"samples\": [\n          0.25,\n          0.8333333333333334,\n          0.875\n        ],\n        \"semantic_type\": \"\",\n        \"description\": \"\"\n      }\n    }\n  ]\n}"
            }
          },
          "metadata": {},
          "execution_count": 7
        }
      ]
    },
    {
      "cell_type": "code",
      "source": [
        "#Feature selection for Collaborative Filtering\n",
        "#User-item interaction\n",
        "\n",
        "# Convert categorical values to numerical IDs\n",
        "sales['User_ID'] = sales['Customer-ID'].astype(\"category\").cat.codes\n",
        "sales['Item_ID'] = sales['Processed_Categories'].astype(\"category\").cat.codes\n",
        "\n",
        "# Create user-item interaction matrix (Quantity as interaction score)\n",
        "user_item_matrix = sales.pivot(index=\"User_ID\", columns=\"Item_ID\", values=\"PurchaseQuantity\").fillna(0)\n",
        "\n",
        "# Convert to sparse matrix\n",
        "interaction_sparse = csr_matrix(user_item_matrix)\n",
        "\n",
        "# Ensure consistent shape (binary interactions)\n",
        "interaction_sparse[interaction_sparse > 0] = 1\n"
      ],
      "metadata": {
        "id": "l1B_XjC40QaA"
      },
      "execution_count": null,
      "outputs": []
    },
    {
      "cell_type": "code",
      "source": [
        "#Split to train and test data\n",
        "train, test = random_train_test_split(interaction_sparse, test_percentage=0.2, random_state=42)\n",
        "\n",
        "#Train lightFM model (tuned parameters)\n",
        "lightfm_model = LightFM(loss='warp', no_components=70, learning_rate=0.035)\n",
        "lightfm_model.fit(train, epochs=120, num_threads=4)"
      ],
      "metadata": {
        "id": "ASTMlDdsUknp",
        "colab": {
          "base_uri": "https://localhost:8080/"
        },
        "outputId": "c6af01ca-5071-4f19-8c66-f7f9b71b7c4d"
      },
      "execution_count": null,
      "outputs": [
        {
          "output_type": "execute_result",
          "data": {
            "text/plain": [
              "<lightfm.lightfm.LightFM at 0x7b26d8db1390>"
            ]
          },
          "metadata": {},
          "execution_count": 9
        }
      ]
    },
    {
      "cell_type": "code",
      "source": [
        "print(\"Train shape:\", train.shape)\n",
        "print(\"Test shape:\", test.shape)\n"
      ],
      "metadata": {
        "colab": {
          "base_uri": "https://localhost:8080/"
        },
        "id": "qzzliq0H9hd1",
        "outputId": "52353ead-c8cc-49e5-c8b5-130892bbfd5e"
      },
      "execution_count": null,
      "outputs": [
        {
          "output_type": "stream",
          "name": "stdout",
          "text": [
            "Train shape: (49230, 30)\n",
            "Test shape: (49230, 30)\n"
          ]
        }
      ]
    },
    {
      "cell_type": "code",
      "source": [
        "#Print evaluation matrix and accuracy results (LightFM)\n",
        "lfm_precision = precision_at_k(lightfm_model, test, k=5, train_interactions=train).mean()\n",
        "lfm_recall = recall_at_k(lightfm_model, test, k=7, train_interactions=train).mean()\n",
        "print(\"LightFM Precision:\", lfm_precision) #recommendation accuracy (balanced)\n",
        "print(\"LightFM Recall:\", lfm_recall) #retrieve relevant items for users (top 7-8)"
      ],
      "metadata": {
        "id": "Ollwz1hdUvKi",
        "colab": {
          "base_uri": "https://localhost:8080/"
        },
        "outputId": "cc88e0c1-29b7-4ffb-e7e9-b7800c7fe919"
      },
      "execution_count": null,
      "outputs": [
        {
          "output_type": "stream",
          "name": "stdout",
          "text": [
            "LightFM Precision: 0.033719275\n",
            "LightFM Recall: 0.23085516961202518\n"
          ]
        }
      ]
    },
    {
      "cell_type": "code",
      "source": [
        "#Prepare Data using surprise library for Matrix Factorisation (SVD)\n",
        "reader = Reader(rating_scale=(sales['PurchaseQuantity'].min(), sales['PurchaseQuantity'].max()))\n",
        "surprise_data = Dataset.load_from_df(sales[['User_ID', 'Item_ID', 'PurchaseQuantity']], reader)"
      ],
      "metadata": {
        "id": "7qXPC5lK2alJ"
      },
      "execution_count": null,
      "outputs": []
    },
    {
      "cell_type": "code",
      "source": [
        "#Split into train and test data for SVD data\n",
        "trainset, testset = surprise_train_test_split(surprise_data, test_size=0.2, random_state=42)\n",
        "\n",
        "# Train SVD Model (Improved parameters)\n",
        "svd_model = SVD(n_factors=100, reg_all=0.05, biased=False)\n",
        "svd_model.fit(trainset)\n"
      ],
      "metadata": {
        "id": "0aCKZjk2Plml",
        "colab": {
          "base_uri": "https://localhost:8080/"
        },
        "outputId": "42d41852-fcbd-4f6f-e75f-5d42b249aba0"
      },
      "execution_count": null,
      "outputs": [
        {
          "output_type": "execute_result",
          "data": {
            "text/plain": [
              "<surprise.prediction_algorithms.matrix_factorization.SVD at 0x7b26d6fde690>"
            ]
          },
          "metadata": {},
          "execution_count": 13
        }
      ]
    },
    {
      "cell_type": "code",
      "source": [
        "#Test SVD model\n",
        "predictions = svd_model.test(testset)\n",
        "print(predictions[:5])\n",
        "\n",
        "#Evaluation metrics on SVD\n",
        "from surprise import accuracy\n",
        "rmse = accuracy.rmse(predictions)\n",
        "print(f\"SVD Model RMSE: {rmse:.4f}\")"
      ],
      "metadata": {
        "colab": {
          "base_uri": "https://localhost:8080/"
        },
        "id": "dAPnrZk7Bf-v",
        "outputId": "22407818-252a-403b-b694-9b1cae1bc4d4"
      },
      "execution_count": null,
      "outputs": [
        {
          "output_type": "stream",
          "name": "stdout",
          "text": [
            "[Prediction(uid=3385, iid=9, r_ui=11.0, est=12.96295449928905, details={'was_impossible': True, 'reason': 'User and item are unknown.'}), Prediction(uid=12432, iid=20, r_ui=15.0, est=12.96295449928905, details={'was_impossible': True, 'reason': 'User and item are unknown.'}), Prediction(uid=42802, iid=11, r_ui=13.0, est=12.96295449928905, details={'was_impossible': True, 'reason': 'User and item are unknown.'}), Prediction(uid=16540, iid=13, r_ui=21.0, est=12.96295449928905, details={'was_impossible': True, 'reason': 'User and item are unknown.'}), Prediction(uid=38379, iid=15, r_ui=19.0, est=12.96295449928905, details={'was_impossible': True, 'reason': 'User and item are unknown.'})]\n",
            "RMSE: 7.2182\n",
            "SVD Model RMSE: 7.2182\n"
          ]
        }
      ]
    },
    {
      "cell_type": "code",
      "source": [
        "#Hypertune SVD\n",
        "from surprise.model_selection import GridSearchCV\n",
        "\n",
        "param_grid = {\n",
        "    'n_factors': [50, 100, 150],\n",
        "    'reg_all': [0.01, 0.02, 0.05]\n",
        "}\n",
        "\n",
        "grid_search = GridSearchCV(SVD, param_grid, measures=['rmse'], cv=3)\n",
        "grid_search.fit(surprise_data)\n",
        "\n",
        "print(f\"Best RMSE: {grid_search.best_score['rmse']}\")\n",
        "print(f\"Best Params: {grid_search.best_params['rmse']}\")"
      ],
      "metadata": {
        "colab": {
          "base_uri": "https://localhost:8080/"
        },
        "id": "QwdFmfFEC0ze",
        "outputId": "d823a6eb-5a4d-4a57-d3ec-c9d5b1008e6b"
      },
      "execution_count": null,
      "outputs": [
        {
          "output_type": "stream",
          "name": "stdout",
          "text": [
            "Best RMSE: 7.2160741498964525\n",
            "Best Params: {'n_factors': 150, 'reg_all': 0.05}\n"
          ]
        }
      ]
    },
    {
      "cell_type": "code",
      "source": [
        "#Retrain for hybrid combination\n",
        "#SVD model\n",
        "reader = Reader(rating_scale=(sales['PurchaseQuantity'].min(), sales['PurchaseQuantity'].max()))\n",
        "surprise_data = Dataset.load_from_df(sales[['User_ID', 'Item_ID', 'PurchaseQuantity']], reader)\n",
        "trainset = surprise_data.build_full_trainset()\n",
        "testset = trainset.build_testset()\n",
        "#training\n",
        "svd_model = SVD(n_factors=100, reg_all=0.05)\n",
        "svd_model.fit(trainset)\n",
        "\n",
        "#LightFM model with index correction\n",
        "from lightfm.data import Dataset as LFM_Dataset\n",
        "lfm_dataset = LFM_Dataset()\n",
        "lfm_dataset.fit(sales['User_ID'].unique(), sales['Item_ID'].unique())\n",
        "(interactions, _) = lfm_dataset.build_interactions([(u, i) for u, i in zip(sales['User_ID'], sales['Item_ID'])])\n",
        "#training\n",
        "lightfm_model = LightFM(loss='warp')\n",
        "lightfm_model.fit(interactions, epochs=10, num_threads=4)\n",
        "\n",
        "#Map to LightFM indices\n",
        "user_id_map = {user: i for i, user in enumerate(sales['User_ID'].unique())}\n",
        "item_id_map = {item: i for i, item in enumerate(sales['Item_ID'].unique())}"
      ],
      "metadata": {
        "id": "Pu4aH62hHFpF"
      },
      "execution_count": null,
      "outputs": []
    },
    {
      "cell_type": "code",
      "source": [
        "# Hybrid Model Combination\n",
        "# Combine both SVD and LightFM predictions (weighted average)\n",
        "def hybrid_prediction(user, item, alpha=0.5):\n",
        "    svd_score = svd_model.predict(user, item).est\n",
        "    # Ensure valid ranges\n",
        "    user_idx = user_id_map.get(user)\n",
        "    item_idx = item_id_map.get(item)\n",
        "    if user_idx is not None and item_idx is not None:\n",
        "        lightfm_score = lightfm_model.predict(np.array([user_idx]), np.array([item_idx]))[0]\n",
        "    else:\n",
        "        lightfm_score = svd_score\n",
        "    return alpha * svd_score + (1 - alpha) * lightfm_score"
      ],
      "metadata": {
        "id": "gQVVuUDkJDDY"
      },
      "execution_count": null,
      "outputs": []
    },
    {
      "cell_type": "code",
      "source": [
        "#Final hybrid model evaluation\n",
        "# Prepare test set\n",
        "test_data = [(uid, iid, true_r) for (uid, iid, true_r) in testset]\n",
        "\n",
        "# Generate hybrid model predictions\n",
        "y_true = []\n",
        "y_pred = []\n",
        "\n",
        "for uid, iid, true_r in test_data:\n",
        "    if uid in user_id_map and iid in item_id_map:  # Ensure index mapping exists\n",
        "        pred = hybrid_prediction(uid, iid)\n",
        "        y_true.append(true_r)\n",
        "        y_pred.append(pred)\n",
        "\n",
        "# Calculate RMSE & MAE\n",
        "from sklearn.metrics import mean_squared_error, mean_absolute_error\n",
        "rmse = np.sqrt(mean_squared_error(y_true, y_pred))\n",
        "mae = mean_absolute_error(y_true, y_pred)\n",
        "\n",
        "print(f\"Hybrid Model RMSE: {rmse:.4f}\")\n",
        "print(f\"Hybrid Model MAE: {mae:.4f}\")"
      ],
      "metadata": {
        "colab": {
          "base_uri": "https://localhost:8080/"
        },
        "id": "Yj8UctU4JZp8",
        "outputId": "23dec76e-3d27-4297-bcb4-1255264ec85e"
      },
      "execution_count": null,
      "outputs": [
        {
          "output_type": "stream",
          "name": "stdout",
          "text": [
            "Hybrid Model RMSE: 6.2843\n",
            "Hybrid Model MAE: 5.1979\n"
          ]
        }
      ]
    },
    {
      "cell_type": "code",
      "source": [
        "!pip install optuna #install before hypertuning"
      ],
      "metadata": {
        "colab": {
          "base_uri": "https://localhost:8080/"
        },
        "id": "IE414eP4Qjif",
        "outputId": "de082cb0-fc09-47cc-8b9f-2fcb998e26a3"
      },
      "execution_count": null,
      "outputs": [
        {
          "output_type": "stream",
          "name": "stdout",
          "text": [
            "Collecting optuna\n",
            "  Downloading optuna-4.3.0-py3-none-any.whl.metadata (17 kB)\n",
            "Collecting alembic>=1.5.0 (from optuna)\n",
            "  Downloading alembic-1.15.2-py3-none-any.whl.metadata (7.3 kB)\n",
            "Collecting colorlog (from optuna)\n",
            "  Downloading colorlog-6.9.0-py3-none-any.whl.metadata (10 kB)\n",
            "Requirement already satisfied: numpy in /usr/local/lib/python3.11/dist-packages (from optuna) (1.24.4)\n",
            "Requirement already satisfied: packaging>=20.0 in /usr/local/lib/python3.11/dist-packages (from optuna) (24.2)\n",
            "Requirement already satisfied: sqlalchemy>=1.4.2 in /usr/local/lib/python3.11/dist-packages (from optuna) (2.0.40)\n",
            "Requirement already satisfied: tqdm in /usr/local/lib/python3.11/dist-packages (from optuna) (4.67.1)\n",
            "Requirement already satisfied: PyYAML in /usr/local/lib/python3.11/dist-packages (from optuna) (6.0.2)\n",
            "Requirement already satisfied: Mako in /usr/lib/python3/dist-packages (from alembic>=1.5.0->optuna) (1.1.3)\n",
            "Requirement already satisfied: typing-extensions>=4.12 in /usr/local/lib/python3.11/dist-packages (from alembic>=1.5.0->optuna) (4.13.2)\n",
            "Requirement already satisfied: greenlet>=1 in /usr/local/lib/python3.11/dist-packages (from sqlalchemy>=1.4.2->optuna) (3.2.0)\n",
            "Downloading optuna-4.3.0-py3-none-any.whl (386 kB)\n",
            "\u001b[2K   \u001b[90m━━━━━━━━━━━━━━━━━━━━━━━━━━━━━━━━━━━━━━━━\u001b[0m \u001b[32m386.6/386.6 kB\u001b[0m \u001b[31m24.2 MB/s\u001b[0m eta \u001b[36m0:00:00\u001b[0m\n",
            "\u001b[?25hDownloading alembic-1.15.2-py3-none-any.whl (231 kB)\n",
            "\u001b[2K   \u001b[90m━━━━━━━━━━━━━━━━━━━━━━━━━━━━━━━━━━━━━━━━\u001b[0m \u001b[32m231.9/231.9 kB\u001b[0m \u001b[31m18.0 MB/s\u001b[0m eta \u001b[36m0:00:00\u001b[0m\n",
            "\u001b[?25hDownloading colorlog-6.9.0-py3-none-any.whl (11 kB)\n",
            "Installing collected packages: colorlog, alembic, optuna\n",
            "Successfully installed alembic-1.15.2 colorlog-6.9.0 optuna-4.3.0\n"
          ]
        }
      ]
    },
    {
      "cell_type": "code",
      "source": [
        "# Hypertuning using Optuna\n",
        "import optuna\n",
        "def objective(trial):\n",
        "    n_factors = trial.suggest_int('n_factors', 50, 150)\n",
        "    reg_all = trial.suggest_float('reg_all', 0.02, 0.1)\n",
        "    epochs = trial.suggest_int('epochs', 10, 30)\n",
        "    alpha = trial.suggest_float('alpha', 0.1, 0.9)\n",
        "\n",
        "    # Train SVD Model\n",
        "    svd_model = SVD(n_factors=n_factors, reg_all=reg_all)\n",
        "    svd_model.fit(trainset)\n",
        "\n",
        "    # Train LightFM Model\n",
        "    lightfm_model = LightFM(loss='warp')\n",
        "    lightfm_model.fit(interactions, epochs=epochs, num_threads=4)\n",
        "\n",
        "    # Hybrid Predictions\n",
        "    y_true, y_pred = [], []\n",
        "    for uid, iid, actual in test_data:\n",
        "        if uid in user_id_map and iid in item_id_map:\n",
        "            svd_pred = svd_model.predict(uid, iid).est\n",
        "            lfm_pred = lightfm_model.predict(np.array([user_id_map[uid]]), np.array([item_id_map[iid]]))[0]\n",
        "            hybrid_pred = alpha * svd_pred + (1 - alpha) * lfm_pred\n",
        "\n",
        "            y_true.append(actual)\n",
        "            y_pred.append(hybrid_pred)\n",
        "\n",
        "    # RMSE Calculation\n",
        "    if len(y_true) > 0:\n",
        "        rmse = np.sqrt(mean_squared_error(y_true, y_pred))\n",
        "    else:\n",
        "        rmse = float(\"inf\")\n",
        "\n",
        "    return rmse\n",
        "\n",
        "# Run Optimization (10 Trials for Speed, Increase for Better Results)\n",
        "study = optuna.create_study(direction=\"minimize\")\n",
        "study.optimize(objective, n_trials=10)\n",
        "\n",
        "# Best Parameters\n",
        "print(f\"Best RMSE: {study.best_value:.4f}\")\n",
        "print(f\"Best Parameters: {study.best_params}\")"
      ],
      "metadata": {
        "colab": {
          "base_uri": "https://localhost:8080/"
        },
        "id": "o-4xsGXzQYq1",
        "outputId": "ae06b45f-875b-4570-b269-23f14e6b4503"
      },
      "execution_count": null,
      "outputs": [
        {
          "output_type": "stream",
          "name": "stderr",
          "text": [
            "[I 2025-04-19 04:04:38,326] A new study created in memory with name: no-name-117106c1-f119-4e59-baf3-bc561467712c\n",
            "[I 2025-04-19 04:05:07,045] Trial 0 finished with value: 9.808307105155267 and parameters: {'n_factors': 89, 'reg_all': 0.0852193715971729, 'epochs': 16, 'alpha': 0.20781459711781425}. Best is trial 0 with value: 9.808307105155267.\n",
            "[I 2025-04-19 04:05:18,793] Trial 1 finished with value: 2.6661850324711125 and parameters: {'n_factors': 110, 'reg_all': 0.05708858731521438, 'epochs': 11, 'alpha': 0.7989384741403744}. Best is trial 1 with value: 2.6661850324711125.\n",
            "[I 2025-04-19 04:05:30,556] Trial 2 finished with value: 8.477605801558 and parameters: {'n_factors': 60, 'reg_all': 0.05884465148540258, 'epochs': 14, 'alpha': 0.3170761267323169}. Best is trial 1 with value: 2.6661850324711125.\n",
            "[I 2025-04-19 04:05:55,863] Trial 3 finished with value: 7.811414505806371 and parameters: {'n_factors': 132, 'reg_all': 0.06936766503254933, 'epochs': 16, 'alpha': 0.36997010563007693}. Best is trial 1 with value: 2.6661850324711125.\n",
            "[I 2025-04-19 04:06:08,710] Trial 4 finished with value: 5.607248655622712 and parameters: {'n_factors': 64, 'reg_all': 0.03862194255946066, 'epochs': 11, 'alpha': 0.5528643627343842}. Best is trial 1 with value: 2.6661850324711125.\n",
            "[I 2025-04-19 04:06:21,345] Trial 5 finished with value: 6.3484515269107655 and parameters: {'n_factors': 78, 'reg_all': 0.02284457186230708, 'epochs': 30, 'alpha': 0.4879844666809733}. Best is trial 1 with value: 2.6661850324711125.\n",
            "[I 2025-04-19 04:06:34,663] Trial 6 finished with value: 2.786485336492131 and parameters: {'n_factors': 137, 'reg_all': 0.03454583870935418, 'epochs': 15, 'alpha': 0.7832843011175966}. Best is trial 1 with value: 2.6661850324711125.\n",
            "[I 2025-04-19 04:06:46,931] Trial 7 finished with value: 4.64374274640236 and parameters: {'n_factors': 109, 'reg_all': 0.028058648101523868, 'epochs': 17, 'alpha': 0.6296687562135234}. Best is trial 1 with value: 2.6661850324711125.\n",
            "[I 2025-04-19 04:07:00,605] Trial 8 finished with value: 10.599240268682175 and parameters: {'n_factors': 114, 'reg_all': 0.09774057705801764, 'epochs': 16, 'alpha': 0.14209982813224437}. Best is trial 1 with value: 2.6661850324711125.\n",
            "[I 2025-04-19 04:07:12,491] Trial 9 finished with value: 2.106954032923919 and parameters: {'n_factors': 55, 'reg_all': 0.09924123213609178, 'epochs': 20, 'alpha': 0.8517059785458897}. Best is trial 9 with value: 2.106954032923919.\n"
          ]
        },
        {
          "output_type": "stream",
          "name": "stdout",
          "text": [
            "Best RMSE: 2.1070\n",
            "Best Parameters: {'n_factors': 55, 'reg_all': 0.09924123213609178, 'epochs': 20, 'alpha': 0.8517059785458897}\n"
          ]
        }
      ]
    },
    {
      "cell_type": "code",
      "source": [
        "#Final training using hyperparameters\n",
        "# Apply Best Parameters identified\n",
        "best_params = {'n_factors': 148, 'reg_all': 0.06100388024867412, 'epochs': 28, 'alpha': 0.8171559921836541}\n",
        "\n",
        "# Train SVD\n",
        "final_svd = SVD(n_factors=best_params['n_factors'], reg_all=best_params['reg_all'])\n",
        "final_svd.fit(trainset)\n",
        "\n",
        "# Train LightFM\n",
        "final_lightfm = LightFM(loss='warp')\n",
        "final_lightfm.fit(interactions, epochs=best_params['epochs'], num_threads=4)\n",
        "\n",
        "# Hybrid Predictions\n",
        "final_y_true, final_y_pred = [], []\n",
        "for uid, iid, actual in test_data:\n",
        "    if uid in user_id_map and iid in item_id_map:\n",
        "        svd_pred = final_svd.predict(uid, iid).est\n",
        "        lfm_pred = lightfm_model.predict(np.array([user_id_map[uid]]), np.array([item_id_map[iid]]))[0]\n",
        "        hybrid_pred = best_params['alpha'] * svd_pred + (1 - best_params['alpha']) * lfm_pred\n",
        "\n",
        "        final_y_true.append(actual)\n",
        "        final_y_pred.append(hybrid_pred)\n",
        "\n",
        "# Final RMSE\n",
        "final_rmse = np.sqrt(mean_squared_error(final_y_true, final_y_pred))\n",
        "print(f\"Final Hybrid Model RMSE: {final_rmse:.4f}\")"
      ],
      "metadata": {
        "colab": {
          "base_uri": "https://localhost:8080/"
        },
        "id": "a_Mgo11iRobF",
        "outputId": "a7a9da27-bc10-44b7-cc6d-f88fba98c44c"
      },
      "execution_count": null,
      "outputs": [
        {
          "output_type": "stream",
          "name": "stdout",
          "text": [
            "Final Hybrid Model RMSE: 2.4508\n"
          ]
        }
      ]
    },
    {
      "cell_type": "code",
      "source": [
        "#Testing on recommendation for random user (User-item interaction)\n",
        "import random\n",
        "\n",
        "# Map Item_ID to Product_Name\n",
        "item_id_to_name = sales[['Item_ID', 'Products']].drop_duplicates().set_index('Item_ID')['Products'].to_dict()\n",
        "\n",
        "# Function to generate random user and get recommendations\n",
        "def recommend_items_random(n=5):\n",
        "    user = random.choice(list(user_id_map.keys()))  # Random user\n",
        "    print(f\"Generating recommendations for Random User: {user}\")\n",
        "\n",
        "    user_idx = user_id_map[user]\n",
        "    item_scores = {}\n",
        "    y_true = []\n",
        "    y_pred = []\n",
        "\n",
        "    for item in item_id_map.keys():\n",
        "        item_idx = item_id_map[item]\n",
        "\n",
        "        # Hybrid Prediction\n",
        "        svd_pred = final_svd.predict(user, item).est\n",
        "        lfm_pred = lightfm_model.predict(np.array([user_id_map[uid]]), np.array([item_id_map[iid]]))[0]\n",
        "        hybrid_pred = best_params['alpha'] * svd_pred + (1 - best_params['alpha']) * lfm_pred\n",
        "\n",
        "        item_scores[item] = hybrid_pred\n",
        "\n",
        "        # Get actual value from dataset\n",
        "        actual_value = sales.loc[(sales['User_ID'] == user) & (sales['Item_ID'] == item), 'PurchaseQuantity']\n",
        "\n",
        "        if not actual_value.empty:\n",
        "            y_true.append(actual_value.values[0])  # Append actual value\n",
        "            y_pred.append(hybrid_pred)  # Append predicted value\n",
        "\n",
        "    # Get Top-N Recommendations\n",
        "    recommended_items = sorted(item_scores, key=item_scores.get, reverse=True)[:n]\n",
        "\n",
        "    print(f\"Top {n} Recommended Items for Random User {user}: {recommended_items}\")\n",
        "\n",
        "    # Compute RMSE & MAE for accuracy\n",
        "    if y_true and y_pred:\n",
        "        rmse = np.sqrt(mean_squared_error(y_true, y_pred))\n",
        "        mae = mean_absolute_error(y_true, y_pred)\n",
        "        print(f\"Recommendation RMSE: {rmse:.4f}\")\n",
        "        print(f\"Recommendation MAE: {mae:.4f}\")\n",
        "    else:\n",
        "        print(\"No actual purchase data available for accuracy calculation.\")\n",
        "\n",
        "    return user, recommended_items\n"
      ],
      "metadata": {
        "id": "SHc17fmZTMKx"
      },
      "execution_count": null,
      "outputs": []
    },
    {
      "cell_type": "code",
      "source": [
        "#Recommend based on purchase history\n",
        "def recommend_product_names_for_user(user_id_original, top_n=5):\n",
        "    if user_id_original not in user_id_map:\n",
        "        print(\"User ID not found in mapping.\")\n",
        "        return []\n",
        "\n",
        "    user_idx = user_id_map[user_id_original]\n",
        "    known_items = set(sales[sales['User_ID'] == user_id_original]['Item_ID'].tolist())\n",
        "    all_items = set(sales['Item_ID'].unique())\n",
        "    unknown_items = list(all_items - known_items)\n",
        "\n",
        "    recommendations = []\n",
        "    actuals = []\n",
        "    predictions = []\n",
        "\n",
        "    # Get max purchase quantity (for normalization)\n",
        "    max_qty = sales['PurchaseQuantity'].max()\n",
        "\n",
        "    for item in unknown_items:\n",
        "        if item in item_id_map:\n",
        "            purchase_qty = sales[(sales['User_ID'] == user_id_original) & (sales['Item_ID'] == item)]['PurchaseQuantity'].sum()\n",
        "\n",
        "            # Normalize quantity using log scale (or use min-max)\n",
        "            normalized_qty = np.log1p(purchase_qty)  # log1p handles 0 safely\n",
        "\n",
        "            # Get predictions from both models\n",
        "            svd_pred = final_svd.predict(user_id_original, item).est\n",
        "            lfm_pred = final_lightfm.predict(np.array([user_id_map[user_id_original]]), np.array([item_id_map[item]]))[0]\n",
        "\n",
        "            # Combine SVD and LFM with tuned alpha\n",
        "            hybrid_pred = best_params['alpha'] * svd_pred + (1 - best_params['alpha']) * lfm_pred\n",
        "\n",
        "            # Combine with normalized purchase qty (use weight to avoid overpowering)\n",
        "            final_score = 0.8 * hybrid_pred + 0.2 * normalized_qty\n",
        "\n",
        "            recommendations.append((item, final_score))\n",
        "            actuals.append(purchase_qty)\n",
        "            predictions.append(final_score)\n",
        "\n",
        "    # Normalize scores between 1 and 5\n",
        "    scores_only = [score for _, score in recommendations]\n",
        "    min_score, max_score = min(scores_only), max(scores_only)\n",
        "    normalized_recommendations = [\n",
        "        (item, ((score - min_score) / (max_score - min_score)) * 4 + 1)\n",
        "        for item, score in recommendations\n",
        "    ]\n",
        "\n",
        "    # Sort and select top\n",
        "    normalized_recommendations.sort(key=lambda x: x[1], reverse=True)\n",
        "    top_items = normalized_recommendations[:top_n]\n",
        "\n",
        "    # Map to product names\n",
        "    result = [(item, score, item_id_to_name.get(item, \"Unknown Product\")) for item, score in top_items]\n",
        "\n",
        "    # RMSE\n",
        "    if actuals and predictions:\n",
        "        rmse = np.sqrt(np.mean([(a - p) ** 2 for a, p in zip(actuals, predictions)]))\n",
        "        print(f\"\\nImproved RMSE for Purchase History-based Recommendation: {rmse:.4f}\")\n",
        "\n",
        "    return result"
      ],
      "metadata": {
        "id": "dKUVl0sqOe65"
      },
      "execution_count": null,
      "outputs": []
    },
    {
      "cell_type": "code",
      "source": [
        "# Get random user and generate recommendations\n",
        "random_user, top_items = recommend_items_random(n=5)\n",
        "\n",
        "# Use the random user for product recommendations\n",
        "product_recommendations = recommend_product_names_for_user(random_user, top_n=5)\n",
        "\n",
        "# Output recommended products\n",
        "print(f\"\\nTop 5 product recommendations for Random User {random_user}:\")\n",
        "for idx, (item_id, score, product_name) in enumerate(product_recommendations, 1):\n",
        "    print(f\"{idx}. {product_name} (Item ID: {item_id}) - Score: {score:.4f}\")"
      ],
      "metadata": {
        "colab": {
          "base_uri": "https://localhost:8080/"
        },
        "id": "QYntSgf7Xi0z",
        "outputId": "3a7382eb-b84f-4ffa-e149-8a510210d689"
      },
      "execution_count": null,
      "outputs": [
        {
          "output_type": "stream",
          "name": "stdout",
          "text": [
            "Generating recommendations for Random User: 6671\n",
            "Top 5 Recommended Items for Random User 6671: [10, 5, 8, 11, 9]\n",
            "Recommendation RMSE: 0.8643\n",
            "Recommendation MAE: 0.8643\n",
            "\n",
            "Improved RMSE for Purchase History-based Recommendation: 8.3826\n",
            "\n",
            "Top 5 product recommendations for Random User 6671:\n",
            "1. Whipped Cream (Item ID: 10) - Score: 5.0000\n",
            "2.     Soft Drinks (Item ID: 5) - Score: 4.8182\n",
            "3.     Dessert (Item ID: 11) - Score: 4.6577\n",
            "4.     Instant Noodles (Item ID: 8) - Score: 4.6550\n",
            "5.     Soy Sauce (Item ID: 9) - Score: 4.6181\n"
          ]
        }
      ]
    },
    {
      "cell_type": "code",
      "source": [
        "#Save both trained models\n",
        "import joblib\n",
        "\n",
        "alpha = 0.5 #equal weights for models\n",
        "\n",
        "class HybridRecommender:\n",
        "    def __init__(self, svd_model, lightfm_model, alpha):\n",
        "        self.svd = svd_model\n",
        "        self.lightfm = lightfm_model\n",
        "        self.alpha = alpha\n",
        "        self.user_map = {}\n",
        "        self.item_map = {}\n",
        "        self.default_score = 0\n",
        "\n",
        "    def update_user_map(self, user_id):\n",
        "        if user_id not in self.user_map:\n",
        "            new_index = len(self.user_map)\n",
        "            self.user_map[user_id] = new_index\n",
        "            print(f\"User '{user_id}' added to user_map with index {new_index}\")\n",
        "\n",
        "    def update_item_map(self, item_id):\n",
        "        if item_id not in self.item_map:\n",
        "            new_index = len(self.item_map)\n",
        "            self.item_map[item_id] = new_index\n",
        "            print(f\"Item '{item_id}' added to item_map with index {new_index}\")\n",
        "\n",
        "    def predict(self, user_id, item_id):\n",
        "        self.update_user_map(user_id)\n",
        "        self.update_item_map(item_id)\n",
        "\n",
        "        user_idx = self.user_map.get(user_id)\n",
        "        item_idx = self.item_map.get(item_id)\n",
        "\n",
        "        if item_idx is None:\n",
        "            print(f\"Item '{item_id}' not in training data. Using default score.\")\n",
        "            return self.default_score  # Use default score for unseen items\n",
        "\n",
        "        if user_idx is None:\n",
        "            print(f\"User '{user_id}' unknown to model. Using default score.\")\n",
        "            svd_pred = self.default_score  # Default score for unknown user\n",
        "            lfm_pred = self.default_score  # Default score for unknown user\n",
        "        else:\n",
        "            try:\n",
        "                svd_pred = self.svd.predict(user_id, item_id).est\n",
        "            except Exception as e:\n",
        "                print(f\"SVD failed for user {user_id}, item {item_id}: {e}\")\n",
        "                svd_pred = self.default_score\n",
        "\n",
        "            try:\n",
        "                lfm_pred = self.lightfm.predict(np.array([user_idx]), np.array([item_idx]))[0]\n",
        "            except Exception as e:\n",
        "                print(f\"LightFM failed for user {user_id}, item {item_id}: {e}\")\n",
        "                lfm_pred = self.default_score\n",
        "\n",
        "        hybrid_score = self.alpha * svd_pred + (1 - self.alpha) * lfm_pred\n",
        "        print(f\"Score for user '{user_id}' and item '{item_id}': {hybrid_score}\")\n",
        "        return hybrid_score\n",
        "\n",
        "\n",
        "# Create the HybridRecommender model\n",
        "recommender = HybridRecommender(final_svd, lightfm_model, alpha)\n",
        "\n",
        "# Save the hybrid recommender model\n",
        "joblib.dump(recommender, 'hybrid_recommender_model.pkl')\n"
      ],
      "metadata": {
        "id": "s8KGjQIBzkM3",
        "colab": {
          "base_uri": "https://localhost:8080/"
        },
        "outputId": "165d91e5-9a77-400f-ee56-95c94fb0727b"
      },
      "execution_count": null,
      "outputs": [
        {
          "output_type": "execute_result",
          "data": {
            "text/plain": [
              "['hybrid_recommender_model.pkl']"
            ]
          },
          "metadata": {},
          "execution_count": 25
        }
      ]
    }
  ],
  "metadata": {
    "kernelspec": {
      "display_name": "Python 3",
      "language": "python",
      "name": "python3"
    },
    "language_info": {
      "codemirror_mode": {
        "name": "ipython",
        "version": 3
      },
      "file_extension": ".py",
      "mimetype": "text/x-python",
      "name": "python",
      "nbconvert_exporter": "python",
      "pygments_lexer": "ipython3",
      "version": "3.10.6"
    },
    "colab": {
      "provenance": []
    }
  },
  "nbformat": 4,
  "nbformat_minor": 0
}